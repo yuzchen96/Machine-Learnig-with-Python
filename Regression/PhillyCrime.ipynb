{
 "cells": [
  {
   "cell_type": "markdown",
   "metadata": {},
   "source": [
    "# Fire up Turi Create"
   ]
  },
  {
   "cell_type": "code",
   "execution_count": 2,
   "metadata": {},
   "outputs": [
    {
     "name": "stdout",
     "output_type": "stream",
     "text": [
      "Collecting turicreate\n",
      "  Downloading turicreate-6.4.1-cp38-cp38-macosx_10_12_intel.macosx_10_12_x86_64.macosx_10_13_intel.macosx_10_13_x86_64.macosx_10_14_intel.macosx_10_14_x86_64.whl (33.2 MB)\n",
      "\u001b[K     |████████████████████████████████| 33.2 MB 21.8 MB/s eta 0:00:01\n",
      "\u001b[?25hRequirement already satisfied: six>=1.10.0 in /opt/anaconda3/lib/python3.8/site-packages (from turicreate) (1.15.0)\n",
      "Collecting coremltools==4.0b3\n",
      "  Downloading coremltools-4.0b3-cp38-none-macosx_10_15_intel.whl (3.4 MB)\n",
      "\u001b[K     |████████████████████████████████| 3.4 MB 10.3 MB/s eta 0:00:01\n",
      "\u001b[?25hCollecting resampy==0.2.1\n",
      "  Downloading resampy-0.2.1.tar.gz (322 kB)\n",
      "\u001b[K     |████████████████████████████████| 322 kB 21.6 MB/s eta 0:00:01\n",
      "\u001b[?25hCollecting prettytable==0.7.2\n",
      "  Downloading prettytable-0.7.2.tar.bz2 (21 kB)\n",
      "Requirement already satisfied: numpy in /opt/anaconda3/lib/python3.8/site-packages (from turicreate) (1.19.2)\n",
      "Requirement already satisfied: scipy>=1.1.0 in /opt/anaconda3/lib/python3.8/site-packages (from turicreate) (1.5.2)\n",
      "Requirement already satisfied: pandas>=0.23.2 in /opt/anaconda3/lib/python3.8/site-packages (from turicreate) (1.1.3)\n",
      "Requirement already satisfied: pillow>=5.2.0 in /opt/anaconda3/lib/python3.8/site-packages (from turicreate) (8.0.1)\n",
      "Collecting tensorflow>=2.0.0\n",
      "  Downloading tensorflow-2.5.0-cp38-cp38-macosx_10_11_x86_64.whl (195.7 MB)\n",
      "\u001b[K     |████████████████████████████████| 195.7 MB 44.8 MB/s eta 0:00:01\n",
      "\u001b[?25hRequirement already satisfied: requests>=2.9.1 in /opt/anaconda3/lib/python3.8/site-packages (from turicreate) (2.24.0)\n",
      "Requirement already satisfied: decorator>=4.0.9 in /opt/anaconda3/lib/python3.8/site-packages (from turicreate) (4.4.2)\n",
      "Requirement already satisfied: tqdm in /opt/anaconda3/lib/python3.8/site-packages (from coremltools==4.0b3->turicreate) (4.50.2)\n",
      "Collecting protobuf>=3.1.0\n",
      "  Downloading protobuf-3.17.3-cp38-cp38-macosx_10_9_x86_64.whl (1.0 MB)\n",
      "\u001b[K     |████████████████████████████████| 1.0 MB 13.4 MB/s eta 0:00:01\n",
      "\u001b[?25hRequirement already satisfied: attrs in /opt/anaconda3/lib/python3.8/site-packages (from coremltools==4.0b3->turicreate) (20.3.0)\n",
      "Collecting attr\n",
      "  Downloading attr-0.3.1.tar.gz (1.7 kB)\n",
      "Requirement already satisfied: sympy in /opt/anaconda3/lib/python3.8/site-packages (from coremltools==4.0b3->turicreate) (1.6.2)\n",
      "Requirement already satisfied: numba>=0.32 in /opt/anaconda3/lib/python3.8/site-packages (from resampy==0.2.1->turicreate) (0.51.2)\n",
      "Requirement already satisfied: pytz>=2017.2 in /opt/anaconda3/lib/python3.8/site-packages (from pandas>=0.23.2->turicreate) (2020.1)\n",
      "Requirement already satisfied: python-dateutil>=2.7.3 in /opt/anaconda3/lib/python3.8/site-packages (from pandas>=0.23.2->turicreate) (2.8.1)\n",
      "Collecting astunparse~=1.6.3\n",
      "  Downloading astunparse-1.6.3-py2.py3-none-any.whl (12 kB)\n",
      "Collecting opt-einsum~=3.3.0\n",
      "  Downloading opt_einsum-3.3.0-py3-none-any.whl (65 kB)\n",
      "\u001b[K     |████████████████████████████████| 65 kB 7.1 MB/s  eta 0:00:01\n",
      "\u001b[?25hCollecting h5py~=3.1.0\n",
      "  Downloading h5py-3.1.0-cp38-cp38-macosx_10_9_x86_64.whl (2.9 MB)\n",
      "\u001b[K     |████████████████████████████████| 2.9 MB 32.9 MB/s eta 0:00:01\n",
      "\u001b[?25hCollecting absl-py~=0.10\n",
      "  Downloading absl_py-0.13.0-py3-none-any.whl (132 kB)\n",
      "\u001b[K     |████████████████████████████████| 132 kB 19.3 MB/s eta 0:00:01\n",
      "\u001b[?25hRequirement already satisfied: wheel~=0.35 in /opt/anaconda3/lib/python3.8/site-packages (from tensorflow>=2.0.0->turicreate) (0.35.1)\n",
      "Collecting tensorflow-estimator<2.6.0,>=2.5.0rc0\n",
      "  Downloading tensorflow_estimator-2.5.0-py2.py3-none-any.whl (462 kB)\n",
      "\u001b[K     |████████████████████████████████| 462 kB 38.1 MB/s eta 0:00:01\n",
      "\u001b[?25hCollecting keras-nightly~=2.5.0.dev\n",
      "  Downloading keras_nightly-2.5.0.dev2021032900-py2.py3-none-any.whl (1.2 MB)\n",
      "\u001b[K     |████████████████████████████████| 1.2 MB 40.4 MB/s eta 0:00:01\n",
      "\u001b[?25hCollecting gast==0.4.0\n",
      "  Downloading gast-0.4.0-py3-none-any.whl (9.8 kB)\n",
      "Collecting wrapt~=1.12.1\n",
      "  Downloading wrapt-1.12.1.tar.gz (27 kB)\n",
      "Collecting google-pasta~=0.2\n",
      "  Downloading google_pasta-0.2.0-py3-none-any.whl (57 kB)\n",
      "\u001b[K     |████████████████████████████████| 57 kB 7.5 MB/s  eta 0:00:01\n",
      "\u001b[?25hCollecting termcolor~=1.1.0\n",
      "  Downloading termcolor-1.1.0.tar.gz (3.9 kB)\n",
      "Collecting tensorboard~=2.5\n",
      "  Downloading tensorboard-2.5.0-py3-none-any.whl (6.0 MB)\n",
      "\u001b[K     |████████████████████████████████| 6.0 MB 10.9 MB/s eta 0:00:01\n",
      "\u001b[?25hRequirement already satisfied: typing-extensions~=3.7.4 in /opt/anaconda3/lib/python3.8/site-packages (from tensorflow>=2.0.0->turicreate) (3.7.4.3)\n",
      "Collecting flatbuffers~=1.12.0\n",
      "  Downloading flatbuffers-1.12-py2.py3-none-any.whl (15 kB)\n",
      "Collecting keras-preprocessing~=1.1.2\n",
      "  Downloading Keras_Preprocessing-1.1.2-py2.py3-none-any.whl (42 kB)\n",
      "\u001b[K     |████████████████████████████████| 42 kB 3.9 MB/s  eta 0:00:01\n",
      "\u001b[?25hCollecting grpcio~=1.34.0\n",
      "  Downloading grpcio-1.34.1-cp38-cp38-macosx_10_10_x86_64.whl (3.7 MB)\n",
      "\u001b[K     |████████████████████████████████| 3.7 MB 10.4 MB/s eta 0:00:01\n",
      "\u001b[?25hRequirement already satisfied: certifi>=2017.4.17 in /opt/anaconda3/lib/python3.8/site-packages (from requests>=2.9.1->turicreate) (2020.6.20)\n",
      "Requirement already satisfied: chardet<4,>=3.0.2 in /opt/anaconda3/lib/python3.8/site-packages (from requests>=2.9.1->turicreate) (3.0.4)\n",
      "Requirement already satisfied: urllib3!=1.25.0,!=1.25.1,<1.26,>=1.21.1 in /opt/anaconda3/lib/python3.8/site-packages (from requests>=2.9.1->turicreate) (1.25.11)\n",
      "Requirement already satisfied: idna<3,>=2.5 in /opt/anaconda3/lib/python3.8/site-packages (from requests>=2.9.1->turicreate) (2.10)\n",
      "Requirement already satisfied: mpmath>=0.19 in /opt/anaconda3/lib/python3.8/site-packages (from sympy->coremltools==4.0b3->turicreate) (1.1.0)\n",
      "Requirement already satisfied: setuptools in /opt/anaconda3/lib/python3.8/site-packages (from numba>=0.32->resampy==0.2.1->turicreate) (50.3.1.post20201107)\n",
      "Requirement already satisfied: llvmlite<0.35,>=0.34.0.dev0 in /opt/anaconda3/lib/python3.8/site-packages (from numba>=0.32->resampy==0.2.1->turicreate) (0.34.0)\n",
      "Collecting google-auth-oauthlib<0.5,>=0.4.1\n",
      "  Downloading google_auth_oauthlib-0.4.5-py2.py3-none-any.whl (18 kB)\n",
      "Collecting tensorboard-plugin-wit>=1.6.0\n",
      "  Downloading tensorboard_plugin_wit-1.8.0-py3-none-any.whl (781 kB)\n",
      "\u001b[K     |████████████████████████████████| 781 kB 15.3 MB/s eta 0:00:01\n",
      "\u001b[?25hCollecting markdown>=2.6.8\n",
      "  Downloading Markdown-3.3.4-py3-none-any.whl (97 kB)\n",
      "\u001b[K     |████████████████████████████████| 97 kB 15.6 MB/s eta 0:00:01\n",
      "\u001b[?25hCollecting tensorboard-data-server<0.7.0,>=0.6.0\n",
      "  Downloading tensorboard_data_server-0.6.1-py3-none-macosx_10_9_x86_64.whl (3.5 MB)\n",
      "\u001b[K     |████████████████████████████████| 3.5 MB 19.4 MB/s eta 0:00:01\n",
      "\u001b[?25hRequirement already satisfied: werkzeug>=0.11.15 in /opt/anaconda3/lib/python3.8/site-packages (from tensorboard~=2.5->tensorflow>=2.0.0->turicreate) (1.0.1)\n",
      "Collecting google-auth<2,>=1.6.3\n",
      "  Downloading google_auth-1.34.0-py2.py3-none-any.whl (152 kB)\n",
      "\u001b[K     |████████████████████████████████| 152 kB 12.6 MB/s eta 0:00:01\n",
      "\u001b[?25hCollecting requests-oauthlib>=0.7.0\n",
      "  Downloading requests_oauthlib-1.3.0-py2.py3-none-any.whl (23 kB)\n",
      "Collecting pyasn1-modules>=0.2.1\n",
      "  Downloading pyasn1_modules-0.2.8-py2.py3-none-any.whl (155 kB)\n",
      "\u001b[K     |████████████████████████████████| 155 kB 10.1 MB/s eta 0:00:01\n",
      "\u001b[?25hCollecting cachetools<5.0,>=2.0.0\n",
      "  Downloading cachetools-4.2.2-py3-none-any.whl (11 kB)\n",
      "Collecting rsa<5,>=3.1.4; python_version >= \"3.6\"\n",
      "  Downloading rsa-4.7.2-py3-none-any.whl (34 kB)\n",
      "Requirement already satisfied: oauthlib>=3.0.0 in /opt/anaconda3/lib/python3.8/site-packages (from requests-oauthlib>=0.7.0->google-auth-oauthlib<0.5,>=0.4.1->tensorboard~=2.5->tensorflow>=2.0.0->turicreate) (3.1.0)\n",
      "Collecting pyasn1<0.5.0,>=0.4.6\n",
      "  Downloading pyasn1-0.4.8-py2.py3-none-any.whl (77 kB)\n",
      "\u001b[K     |████████████████████████████████| 77 kB 13.6 MB/s eta 0:00:01\n",
      "\u001b[?25hBuilding wheels for collected packages: resampy, prettytable, attr, wrapt, termcolor\n",
      "  Building wheel for resampy (setup.py) ... \u001b[?25ldone\n",
      "\u001b[?25h  Created wheel for resampy: filename=resampy-0.2.1-py3-none-any.whl size=320847 sha256=171857d3980af10b2566671ba45f4589ed250d0d00174f82b9c6cfeaa43536e9\n",
      "  Stored in directory: /Users/yuzchen/Library/Caches/pip/wheels/2b/a9/15/89e0e4544c36f50e4e8d54d546f2331c461f505d3b55d3f358\n"
     ]
    },
    {
     "name": "stdout",
     "output_type": "stream",
     "text": [
      "  Building wheel for prettytable (setup.py) ... \u001b[?25ldone\n",
      "\u001b[?25h  Created wheel for prettytable: filename=prettytable-0.7.2-py3-none-any.whl size=13700 sha256=63d08c7650632860c397f89bcfd6c0549f99349cfe5f8e7d8d07689a03bdc9bb\n",
      "  Stored in directory: /Users/yuzchen/Library/Caches/pip/wheels/46/60/6c/bb25d05df22906786206e901e9354bb3061061191116768bee\n",
      "  Building wheel for attr (setup.py) ... \u001b[?25ldone\n",
      "\u001b[?25h  Created wheel for attr: filename=attr-0.3.1-py3-none-any.whl size=2458 sha256=1e2ff0b83beda51776511b2951186ca5a363d0c4ca1b85a9ace94ec2d6e0a7a9\n",
      "  Stored in directory: /Users/yuzchen/Library/Caches/pip/wheels/47/53/81/061bfd275ab8eb923cfe874f1f6cbe1e607092df09d606c982\n",
      "  Building wheel for wrapt (setup.py) ... \u001b[?25ldone\n",
      "\u001b[?25h  Created wheel for wrapt: filename=wrapt-1.12.1-cp38-cp38-macosx_10_9_x86_64.whl size=32720 sha256=0fb6f4186c101ccbe740cb172b9a6aa981136caf5d86e8b01b3a440a8b23d9ac\n",
      "  Stored in directory: /Users/yuzchen/Library/Caches/pip/wheels/5f/fd/9e/b6cf5890494cb8ef0b5eaff72e5d55a70fb56316007d6dfe73\n",
      "  Building wheel for termcolor (setup.py) ... \u001b[?25ldone\n",
      "\u001b[?25h  Created wheel for termcolor: filename=termcolor-1.1.0-py3-none-any.whl size=4830 sha256=4ed571e47e9aca2a89e14d1312415fdb98d23d0a8c1bfd3047ab199eeead46bd\n",
      "  Stored in directory: /Users/yuzchen/Library/Caches/pip/wheels/a0/16/9c/5473df82468f958445479c59e784896fa24f4a5fc024b0f501\n",
      "Successfully built resampy prettytable attr wrapt termcolor\n",
      "Installing collected packages: protobuf, attr, coremltools, resampy, prettytable, astunparse, opt-einsum, h5py, absl-py, tensorflow-estimator, keras-nightly, gast, wrapt, google-pasta, termcolor, pyasn1, pyasn1-modules, cachetools, rsa, google-auth, requests-oauthlib, google-auth-oauthlib, tensorboard-plugin-wit, markdown, tensorboard-data-server, grpcio, tensorboard, flatbuffers, keras-preprocessing, tensorflow, turicreate\n",
      "  Attempting uninstall: h5py\n",
      "    Found existing installation: h5py 2.10.0\n",
      "    Uninstalling h5py-2.10.0:\n",
      "      Successfully uninstalled h5py-2.10.0\n",
      "  Attempting uninstall: wrapt\n",
      "    Found existing installation: wrapt 1.11.2\n",
      "    Uninstalling wrapt-1.11.2:\n",
      "      Successfully uninstalled wrapt-1.11.2\n",
      "Successfully installed absl-py-0.13.0 astunparse-1.6.3 attr-0.3.1 cachetools-4.2.2 coremltools-4.0b3 flatbuffers-1.12 gast-0.4.0 google-auth-1.34.0 google-auth-oauthlib-0.4.5 google-pasta-0.2.0 grpcio-1.34.1 h5py-3.1.0 keras-nightly-2.5.0.dev2021032900 keras-preprocessing-1.1.2 markdown-3.3.4 opt-einsum-3.3.0 prettytable-0.7.2 protobuf-3.17.3 pyasn1-0.4.8 pyasn1-modules-0.2.8 requests-oauthlib-1.3.0 resampy-0.2.1 rsa-4.7.2 tensorboard-2.5.0 tensorboard-data-server-0.6.1 tensorboard-plugin-wit-1.8.0 tensorflow-2.5.0 tensorflow-estimator-2.5.0 termcolor-1.1.0 turicreate-6.4.1 wrapt-1.12.1\n",
      "Note: you may need to restart the kernel to use updated packages.\n"
     ]
    }
   ],
   "source": [
    "pip install turicreate"
   ]
  },
  {
   "cell_type": "code",
   "execution_count": 3,
   "metadata": {},
   "outputs": [],
   "source": [
    "import turicreate"
   ]
  },
  {
   "cell_type": "markdown",
   "metadata": {},
   "source": [
    "# Load some house value vs. crime rate data\n",
    "\n",
    "Dataset is from Philadelphia, PA and includes average house sales price in a number of neighborhoods.  The attributes of each neighborhood we have include the crime rate ('CrimeRate'), miles from Center City ('MilesPhila'), town name ('Name'), and county name ('County')."
   ]
  },
  {
   "cell_type": "code",
   "execution_count": 4,
   "metadata": {},
   "outputs": [
    {
     "data": {
      "text/html": [
       "<pre>Downloading https://courses.cs.washington.edu/courses/cse416/18sp/notebooks/Philadelphia_Crime_Rate_noNA.csv to /var/folders/ph/hp0qb2pn753d5wz0hcxpfl9h0000gp/T/turicreate-yuzchen/74949/06d7f4bf-017a-4e39-a595-044066bac11e.csv</pre>"
      ],
      "text/plain": [
       "Downloading https://courses.cs.washington.edu/courses/cse416/18sp/notebooks/Philadelphia_Crime_Rate_noNA.csv to /var/folders/ph/hp0qb2pn753d5wz0hcxpfl9h0000gp/T/turicreate-yuzchen/74949/06d7f4bf-017a-4e39-a595-044066bac11e.csv"
      ]
     },
     "metadata": {},
     "output_type": "display_data"
    },
    {
     "data": {
      "text/html": [
       "<pre>Finished parsing file https://courses.cs.washington.edu/courses/cse416/18sp/notebooks/Philadelphia_Crime_Rate_noNA.csv</pre>"
      ],
      "text/plain": [
       "Finished parsing file https://courses.cs.washington.edu/courses/cse416/18sp/notebooks/Philadelphia_Crime_Rate_noNA.csv"
      ]
     },
     "metadata": {},
     "output_type": "display_data"
    },
    {
     "data": {
      "text/html": [
       "<pre>Parsing completed. Parsed 99 lines in 0.027338 secs.</pre>"
      ],
      "text/plain": [
       "Parsing completed. Parsed 99 lines in 0.027338 secs."
      ]
     },
     "metadata": {},
     "output_type": "display_data"
    },
    {
     "name": "stdout",
     "output_type": "stream",
     "text": [
      "------------------------------------------------------\n",
      "Inferred types from first 100 line(s) of file as \n",
      "column_type_hints=[int,float,float,float,float,str,str]\n",
      "If parsing fails due to incorrect types, you can correct\n",
      "the inferred type list above and pass it to read_csv in\n",
      "the column_type_hints argument\n",
      "------------------------------------------------------\n"
     ]
    },
    {
     "data": {
      "text/html": [
       "<pre>Finished parsing file https://courses.cs.washington.edu/courses/cse416/18sp/notebooks/Philadelphia_Crime_Rate_noNA.csv</pre>"
      ],
      "text/plain": [
       "Finished parsing file https://courses.cs.washington.edu/courses/cse416/18sp/notebooks/Philadelphia_Crime_Rate_noNA.csv"
      ]
     },
     "metadata": {},
     "output_type": "display_data"
    },
    {
     "data": {
      "text/html": [
       "<pre>Parsing completed. Parsed 99 lines in 0.005819 secs.</pre>"
      ],
      "text/plain": [
       "Parsing completed. Parsed 99 lines in 0.005819 secs."
      ]
     },
     "metadata": {},
     "output_type": "display_data"
    }
   ],
   "source": [
    "sales = turicreate.SFrame('https://courses.cs.washington.edu/courses/cse416/18sp/notebooks/Philadelphia_Crime_Rate_noNA.csv')"
   ]
  },
  {
   "cell_type": "code",
   "execution_count": 5,
   "metadata": {},
   "outputs": [
    {
     "data": {
      "text/html": [
       "<div style=\"max-height:1000px;max-width:1500px;overflow:auto;\"><table frame=\"box\" rules=\"cols\">\n",
       "    <tr>\n",
       "        <th style=\"padding-left: 1em; padding-right: 1em; text-align: center\">HousePrice</th>\n",
       "        <th style=\"padding-left: 1em; padding-right: 1em; text-align: center\">HsPrc ($10,000)</th>\n",
       "        <th style=\"padding-left: 1em; padding-right: 1em; text-align: center\">CrimeRate</th>\n",
       "        <th style=\"padding-left: 1em; padding-right: 1em; text-align: center\">MilesPhila</th>\n",
       "        <th style=\"padding-left: 1em; padding-right: 1em; text-align: center\">PopChg</th>\n",
       "        <th style=\"padding-left: 1em; padding-right: 1em; text-align: center\">Name</th>\n",
       "        <th style=\"padding-left: 1em; padding-right: 1em; text-align: center\">County</th>\n",
       "    </tr>\n",
       "    <tr>\n",
       "        <td style=\"padding-left: 1em; padding-right: 1em; text-align: center; vertical-align: top\">140463</td>\n",
       "        <td style=\"padding-left: 1em; padding-right: 1em; text-align: center; vertical-align: top\">14.0463</td>\n",
       "        <td style=\"padding-left: 1em; padding-right: 1em; text-align: center; vertical-align: top\">29.7</td>\n",
       "        <td style=\"padding-left: 1em; padding-right: 1em; text-align: center; vertical-align: top\">10.0</td>\n",
       "        <td style=\"padding-left: 1em; padding-right: 1em; text-align: center; vertical-align: top\">-1.0</td>\n",
       "        <td style=\"padding-left: 1em; padding-right: 1em; text-align: center; vertical-align: top\">Abington</td>\n",
       "        <td style=\"padding-left: 1em; padding-right: 1em; text-align: center; vertical-align: top\">Montgome</td>\n",
       "    </tr>\n",
       "    <tr>\n",
       "        <td style=\"padding-left: 1em; padding-right: 1em; text-align: center; vertical-align: top\">113033</td>\n",
       "        <td style=\"padding-left: 1em; padding-right: 1em; text-align: center; vertical-align: top\">11.3033</td>\n",
       "        <td style=\"padding-left: 1em; padding-right: 1em; text-align: center; vertical-align: top\">24.1</td>\n",
       "        <td style=\"padding-left: 1em; padding-right: 1em; text-align: center; vertical-align: top\">18.0</td>\n",
       "        <td style=\"padding-left: 1em; padding-right: 1em; text-align: center; vertical-align: top\">4.0</td>\n",
       "        <td style=\"padding-left: 1em; padding-right: 1em; text-align: center; vertical-align: top\">Ambler</td>\n",
       "        <td style=\"padding-left: 1em; padding-right: 1em; text-align: center; vertical-align: top\">Montgome</td>\n",
       "    </tr>\n",
       "    <tr>\n",
       "        <td style=\"padding-left: 1em; padding-right: 1em; text-align: center; vertical-align: top\">124186</td>\n",
       "        <td style=\"padding-left: 1em; padding-right: 1em; text-align: center; vertical-align: top\">12.4186</td>\n",
       "        <td style=\"padding-left: 1em; padding-right: 1em; text-align: center; vertical-align: top\">19.5</td>\n",
       "        <td style=\"padding-left: 1em; padding-right: 1em; text-align: center; vertical-align: top\">25.0</td>\n",
       "        <td style=\"padding-left: 1em; padding-right: 1em; text-align: center; vertical-align: top\">8.0</td>\n",
       "        <td style=\"padding-left: 1em; padding-right: 1em; text-align: center; vertical-align: top\">Aston</td>\n",
       "        <td style=\"padding-left: 1em; padding-right: 1em; text-align: center; vertical-align: top\">Delaware</td>\n",
       "    </tr>\n",
       "    <tr>\n",
       "        <td style=\"padding-left: 1em; padding-right: 1em; text-align: center; vertical-align: top\">110490</td>\n",
       "        <td style=\"padding-left: 1em; padding-right: 1em; text-align: center; vertical-align: top\">11.049</td>\n",
       "        <td style=\"padding-left: 1em; padding-right: 1em; text-align: center; vertical-align: top\">49.4</td>\n",
       "        <td style=\"padding-left: 1em; padding-right: 1em; text-align: center; vertical-align: top\">25.0</td>\n",
       "        <td style=\"padding-left: 1em; padding-right: 1em; text-align: center; vertical-align: top\">2.7</td>\n",
       "        <td style=\"padding-left: 1em; padding-right: 1em; text-align: center; vertical-align: top\">Bensalem</td>\n",
       "        <td style=\"padding-left: 1em; padding-right: 1em; text-align: center; vertical-align: top\">Bucks</td>\n",
       "    </tr>\n",
       "    <tr>\n",
       "        <td style=\"padding-left: 1em; padding-right: 1em; text-align: center; vertical-align: top\">79124</td>\n",
       "        <td style=\"padding-left: 1em; padding-right: 1em; text-align: center; vertical-align: top\">7.9124</td>\n",
       "        <td style=\"padding-left: 1em; padding-right: 1em; text-align: center; vertical-align: top\">54.1</td>\n",
       "        <td style=\"padding-left: 1em; padding-right: 1em; text-align: center; vertical-align: top\">19.0</td>\n",
       "        <td style=\"padding-left: 1em; padding-right: 1em; text-align: center; vertical-align: top\">3.9</td>\n",
       "        <td style=\"padding-left: 1em; padding-right: 1em; text-align: center; vertical-align: top\">Bristol B.</td>\n",
       "        <td style=\"padding-left: 1em; padding-right: 1em; text-align: center; vertical-align: top\">Bucks</td>\n",
       "    </tr>\n",
       "    <tr>\n",
       "        <td style=\"padding-left: 1em; padding-right: 1em; text-align: center; vertical-align: top\">92634</td>\n",
       "        <td style=\"padding-left: 1em; padding-right: 1em; text-align: center; vertical-align: top\">9.2634</td>\n",
       "        <td style=\"padding-left: 1em; padding-right: 1em; text-align: center; vertical-align: top\">48.6</td>\n",
       "        <td style=\"padding-left: 1em; padding-right: 1em; text-align: center; vertical-align: top\">20.0</td>\n",
       "        <td style=\"padding-left: 1em; padding-right: 1em; text-align: center; vertical-align: top\">0.6</td>\n",
       "        <td style=\"padding-left: 1em; padding-right: 1em; text-align: center; vertical-align: top\">Bristol T.</td>\n",
       "        <td style=\"padding-left: 1em; padding-right: 1em; text-align: center; vertical-align: top\">Bucks</td>\n",
       "    </tr>\n",
       "    <tr>\n",
       "        <td style=\"padding-left: 1em; padding-right: 1em; text-align: center; vertical-align: top\">89246</td>\n",
       "        <td style=\"padding-left: 1em; padding-right: 1em; text-align: center; vertical-align: top\">8.9246</td>\n",
       "        <td style=\"padding-left: 1em; padding-right: 1em; text-align: center; vertical-align: top\">30.8</td>\n",
       "        <td style=\"padding-left: 1em; padding-right: 1em; text-align: center; vertical-align: top\">15.0</td>\n",
       "        <td style=\"padding-left: 1em; padding-right: 1em; text-align: center; vertical-align: top\">-2.6</td>\n",
       "        <td style=\"padding-left: 1em; padding-right: 1em; text-align: center; vertical-align: top\">Brookhaven</td>\n",
       "        <td style=\"padding-left: 1em; padding-right: 1em; text-align: center; vertical-align: top\">Delaware</td>\n",
       "    </tr>\n",
       "    <tr>\n",
       "        <td style=\"padding-left: 1em; padding-right: 1em; text-align: center; vertical-align: top\">195145</td>\n",
       "        <td style=\"padding-left: 1em; padding-right: 1em; text-align: center; vertical-align: top\">19.5145</td>\n",
       "        <td style=\"padding-left: 1em; padding-right: 1em; text-align: center; vertical-align: top\">10.8</td>\n",
       "        <td style=\"padding-left: 1em; padding-right: 1em; text-align: center; vertical-align: top\">20.0</td>\n",
       "        <td style=\"padding-left: 1em; padding-right: 1em; text-align: center; vertical-align: top\">-3.5</td>\n",
       "        <td style=\"padding-left: 1em; padding-right: 1em; text-align: center; vertical-align: top\">Bryn Athyn</td>\n",
       "        <td style=\"padding-left: 1em; padding-right: 1em; text-align: center; vertical-align: top\">Montgome</td>\n",
       "    </tr>\n",
       "    <tr>\n",
       "        <td style=\"padding-left: 1em; padding-right: 1em; text-align: center; vertical-align: top\">297342</td>\n",
       "        <td style=\"padding-left: 1em; padding-right: 1em; text-align: center; vertical-align: top\">29.7342</td>\n",
       "        <td style=\"padding-left: 1em; padding-right: 1em; text-align: center; vertical-align: top\">20.2</td>\n",
       "        <td style=\"padding-left: 1em; padding-right: 1em; text-align: center; vertical-align: top\">14.0</td>\n",
       "        <td style=\"padding-left: 1em; padding-right: 1em; text-align: center; vertical-align: top\">0.6</td>\n",
       "        <td style=\"padding-left: 1em; padding-right: 1em; text-align: center; vertical-align: top\">Bryn Mawr</td>\n",
       "        <td style=\"padding-left: 1em; padding-right: 1em; text-align: center; vertical-align: top\">Montgome</td>\n",
       "    </tr>\n",
       "    <tr>\n",
       "        <td style=\"padding-left: 1em; padding-right: 1em; text-align: center; vertical-align: top\">264298</td>\n",
       "        <td style=\"padding-left: 1em; padding-right: 1em; text-align: center; vertical-align: top\">26.4298</td>\n",
       "        <td style=\"padding-left: 1em; padding-right: 1em; text-align: center; vertical-align: top\">20.4</td>\n",
       "        <td style=\"padding-left: 1em; padding-right: 1em; text-align: center; vertical-align: top\">26.0</td>\n",
       "        <td style=\"padding-left: 1em; padding-right: 1em; text-align: center; vertical-align: top\">6.0</td>\n",
       "        <td style=\"padding-left: 1em; padding-right: 1em; text-align: center; vertical-align: top\">Buckingham</td>\n",
       "        <td style=\"padding-left: 1em; padding-right: 1em; text-align: center; vertical-align: top\">Bucks</td>\n",
       "    </tr>\n",
       "</table>\n",
       "[99 rows x 7 columns]<br/>Note: Only the head of the SFrame is printed.<br/>You can use print_rows(num_rows=m, num_columns=n) to print more rows and columns.\n",
       "</div>"
      ],
      "text/plain": [
       "Columns:\n",
       "\tHousePrice\tint\n",
       "\tHsPrc ($10,000)\tfloat\n",
       "\tCrimeRate\tfloat\n",
       "\tMilesPhila\tfloat\n",
       "\tPopChg\tfloat\n",
       "\tName\tstr\n",
       "\tCounty\tstr\n",
       "\n",
       "Rows: 99\n",
       "\n",
       "Data:\n",
       "+------------+-----------------+-----------+------------+--------+------------+\n",
       "| HousePrice | HsPrc ($10,000) | CrimeRate | MilesPhila | PopChg |    Name    |\n",
       "+------------+-----------------+-----------+------------+--------+------------+\n",
       "|   140463   |     14.0463     |    29.7   |    10.0    |  -1.0  |  Abington  |\n",
       "|   113033   |     11.3033     |    24.1   |    18.0    |  4.0   |   Ambler   |\n",
       "|   124186   |     12.4186     |    19.5   |    25.0    |  8.0   |   Aston    |\n",
       "|   110490   |      11.049     |    49.4   |    25.0    |  2.7   |  Bensalem  |\n",
       "|   79124    |      7.9124     |    54.1   |    19.0    |  3.9   | Bristol B. |\n",
       "|   92634    |      9.2634     |    48.6   |    20.0    |  0.6   | Bristol T. |\n",
       "|   89246    |      8.9246     |    30.8   |    15.0    |  -2.6  | Brookhaven |\n",
       "|   195145   |     19.5145     |    10.8   |    20.0    |  -3.5  | Bryn Athyn |\n",
       "|   297342   |     29.7342     |    20.2   |    14.0    |  0.6   | Bryn Mawr  |\n",
       "|   264298   |     26.4298     |    20.4   |    26.0    |  6.0   | Buckingham |\n",
       "+------------+-----------------+-----------+------------+--------+------------+\n",
       "+----------+\n",
       "|  County  |\n",
       "+----------+\n",
       "| Montgome |\n",
       "| Montgome |\n",
       "| Delaware |\n",
       "|  Bucks   |\n",
       "|  Bucks   |\n",
       "|  Bucks   |\n",
       "| Delaware |\n",
       "| Montgome |\n",
       "| Montgome |\n",
       "|  Bucks   |\n",
       "+----------+\n",
       "[99 rows x 7 columns]\n",
       "Note: Only the head of the SFrame is printed.\n",
       "You can use print_rows(num_rows=m, num_columns=n) to print more rows and columns."
      ]
     },
     "execution_count": 5,
     "metadata": {},
     "output_type": "execute_result"
    }
   ],
   "source": [
    "sales"
   ]
  },
  {
   "cell_type": "markdown",
   "metadata": {},
   "source": [
    "# Exploring the data "
   ]
  },
  {
   "cell_type": "markdown",
   "metadata": {},
   "source": [
    "The house price in a town is correlated with the crime rate of that town. Low crime towns tend to be associated with higher house prices and vice versa."
   ]
  },
  {
   "cell_type": "code",
   "execution_count": 6,
   "metadata": {
    "scrolled": true
   },
   "outputs": [
    {
     "data": {
      "text/html": [
       "<pre>Materializing X axis SArray</pre>"
      ],
      "text/plain": [
       "Materializing X axis SArray"
      ]
     },
     "metadata": {},
     "output_type": "display_data"
    },
    {
     "data": {
      "text/html": [
       "<pre>Materializing Y axis SArray</pre>"
      ],
      "text/plain": [
       "Materializing Y axis SArray"
      ]
     },
     "metadata": {},
     "output_type": "display_data"
    },
    {
     "data": {
      "text/html": [
       "<html>                 <body>                     <iframe style=\"border:0;margin:0\" width=\"920\" height=\"770\" srcdoc='<html lang=\"en\">                         <head>                             <script src=\"https://cdnjs.cloudflare.com/ajax/libs/vega/5.4.0/vega.js\"></script>                             <script src=\"https://cdnjs.cloudflare.com/ajax/libs/vega-embed/4.0.0/vega-embed.js\"></script>                             <script src=\"https://cdnjs.cloudflare.com/ajax/libs/vega-tooltip/0.5.1/vega-tooltip.min.js\"></script>                             <link rel=\"stylesheet\" type=\"text/css\" href=\"https://cdnjs.cloudflare.com/ajax/libs/vega-tooltip/0.5.1/vega-tooltip.min.css\">                             <style>                             .vega-actions > a{                                 color:white;                                 text-decoration: none;                                 font-family: \"Arial\";                                 cursor:pointer;                                 padding:5px;                                 background:#AAAAAA;                                 border-radius:4px;                                 padding-left:10px;                                 padding-right:10px;                                 margin-right:5px;                             }                             .vega-actions{                                 margin-top:20px;                                 text-align:center                             }                            .vega-actions > a{                                 background:#999999;                            }                             </style>                         </head>                         <body>                             <div id=\"vis\">                             </div>                             <script>                                 var vega_json = \"{\\\"$schema\\\": \\\"https://vega.github.io/schema/vega/v4.json\\\", \\\"autosize\\\": {\\\"type\\\": \\\"fit\\\", \\\"resize\\\": false, \\\"contains\\\": \\\"padding\\\"}, \\\"padding\\\": 8, \\\"width\\\": 720, \\\"height\\\": 550, \\\"style\\\": \\\"cell\\\", \\\"title\\\": \\\"X vs. Y\\\", \\\"data\\\": [{\\\"name\\\": \\\"source_2\\\", \\\"values\\\": [{\\\"x\\\": 29.7, \\\"y\\\": 140463}, {\\\"x\\\": 24.1, \\\"y\\\": 113033}, {\\\"x\\\": 19.5, \\\"y\\\": 124186}, {\\\"x\\\": 49.4, \\\"y\\\": 110490}, {\\\"x\\\": 54.1, \\\"y\\\": 79124}, {\\\"x\\\": 48.6, \\\"y\\\": 92634}, {\\\"x\\\": 30.8, \\\"y\\\": 89246}, {\\\"x\\\": 10.8, \\\"y\\\": 195145}, {\\\"x\\\": 20.2, \\\"y\\\": 297342}, {\\\"x\\\": 20.4, \\\"y\\\": 264298}, {\\\"x\\\": 17.3, \\\"y\\\": 134342}, {\\\"x\\\": 50.3, \\\"y\\\": 147600}, {\\\"x\\\": 34.2, \\\"y\\\": 77370}, {\\\"x\\\": 33.7, \\\"y\\\": 170822}, {\\\"x\\\": 45.7, \\\"y\\\": 40642}, {\\\"x\\\": 22.3, \\\"y\\\": 71359}, {\\\"x\\\": 48.1, \\\"y\\\": 104923}, {\\\"x\\\": 19.4, \\\"y\\\": 190317}, {\\\"x\\\": 71.9, \\\"y\\\": 215512}, {\\\"x\\\": 45.1, \\\"y\\\": 178105}, {\\\"x\\\": 31.3, \\\"y\\\": 131025}, {\\\"x\\\": 24.9, \\\"y\\\": 149844}, {\\\"x\\\": 27.2, \\\"y\\\": 170556}, {\\\"x\\\": 17.7, \\\"y\\\": 280969}, {\\\"x\\\": 29.0, \\\"y\\\": 114233}, {\\\"x\\\": 21.4, \\\"y\\\": 74502}, {\\\"x\\\": 28.6, \\\"y\\\": 475112}, {\\\"x\\\": 29.3, \\\"y\\\": 97167}, {\\\"x\\\": 17.5, \\\"y\\\": 114572}, {\\\"x\\\": 16.5, \\\"y\\\": 436348}, {\\\"x\\\": 17.8, \\\"y\\\": 389302}, {\\\"x\\\": 17.3, \\\"y\\\": 122392}, {\\\"x\\\": 31.2, \\\"y\\\": 130436}, {\\\"x\\\": 14.5, \\\"y\\\": 272790}, {\\\"x\\\": 15.7, \\\"y\\\": 194435}, {\\\"x\\\": 28.6, \\\"y\\\": 299621}, {\\\"x\\\": 20.8, \\\"y\\\": 210884}, {\\\"x\\\": 29.3, \\\"y\\\": 112471}, {\\\"x\\\": 19.3, \\\"y\\\": 93738}, {\\\"x\\\": 39.5, \\\"y\\\": 121024}, {\\\"x\\\": 13.0, \\\"y\\\": 156035}, {\\\"x\\\": 24.1, \\\"y\\\": 185404}, {\\\"x\\\": 38.0, \\\"y\\\": 126160}, {\\\"x\\\": 40.1, \\\"y\\\": 143072}, {\\\"x\\\": 36.1, \\\"y\\\": 96769}, {\\\"x\\\": 26.6, \\\"y\\\": 94014}, {\\\"x\\\": 25.1, \\\"y\\\": 118214}, {\\\"x\\\": 14.6, \\\"y\\\": 157446}, {\\\"x\\\": 18.2, \\\"y\\\": 150283}, {\\\"x\\\": 15.3, \\\"y\\\": 153842}, {\\\"x\\\": 15.2, \\\"y\\\": 197214}, {\\\"x\\\": 17.4, \\\"y\\\": 206127}, {\\\"x\\\": 73.3, \\\"y\\\": 71981}, {\\\"x\\\": 7.1, \\\"y\\\": 169401}, {\\\"x\\\": 12.5, \\\"y\\\": 99843}, {\\\"x\\\": 45.8, \\\"y\\\": 60000}, {\\\"x\\\": 44.9, \\\"y\\\": 28000}, {\\\"x\\\": 65.0, \\\"y\\\": 60000}, {\\\"x\\\": 49.9, \\\"y\\\": 61800}, {\\\"x\\\": 54.8, \\\"y\\\": 38000}, {\\\"x\\\": 53.5, \\\"y\\\": 38000}, {\\\"x\\\": 69.9, \\\"y\\\": 42000}, {\\\"x\\\": 366.1, \\\"y\\\": 96200}, {\\\"x\\\": 24.6, \\\"y\\\": 103087}, {\\\"x\\\": 58.6, \\\"y\\\": 147720}, {\\\"x\\\": 53.2, \\\"y\\\": 78175}, {\\\"x\\\": 17.4, \\\"y\\\": 92215}, {\\\"x\\\": 15.5, \\\"y\\\": 271804}, {\\\"x\\\": 14.5, \\\"y\\\": 119566}, {\\\"x\\\": 24.1, \\\"y\\\": 100231}, {\\\"x\\\": 21.2, \\\"y\\\": 95831}, {\\\"x\\\": 9.8, \\\"y\\\": 229711}, {\\\"x\\\": 29.9, \\\"y\\\": 74308}, {\\\"x\\\": 7.2, \\\"y\\\": 259506}, {\\\"x\\\": 19.4, \\\"y\\\": 159573}, {\\\"x\\\": 41.1, \\\"y\\\": 147176}, {\\\"x\\\": 11.2, \\\"y\\\": 205732}, {\\\"x\\\": 21.2, \\\"y\\\": 215783}, {\\\"x\\\": 42.8, \\\"y\\\": 116710}, {\\\"x\\\": 9.4, \\\"y\\\": 359112}, {\\\"x\\\": 61.7, \\\"y\\\": 189959}, {\\\"x\\\": 19.4, \\\"y\\\": 133198}, {\\\"x\\\": 6.6, \\\"y\\\": 242821}, {\\\"x\\\": 15.9, \\\"y\\\": 142811}, {\\\"x\\\": 18.8, \\\"y\\\": 200498}, {\\\"x\\\": 13.2, \\\"y\\\": 199065}, {\\\"x\\\": 34.5, \\\"y\\\": 93648}, {\\\"x\\\": 22.1, \\\"y\\\": 163001}, {\\\"x\\\": 22.1, \\\"y\\\": 436348}, {\\\"x\\\": 71.9, \\\"y\\\": 124478}, {\\\"x\\\": 31.9, \\\"y\\\": 168276}, {\\\"x\\\": 44.6, \\\"y\\\": 114157}, {\\\"x\\\": 28.6, \\\"y\\\": 130088}, {\\\"x\\\": 24.0, \\\"y\\\": 152624}, {\\\"x\\\": 13.8, \\\"y\\\": 174232}, {\\\"x\\\": 29.9, \\\"y\\\": 196515}, {\\\"x\\\": 9.9, \\\"y\\\": 232714}, {\\\"x\\\": 22.6, \\\"y\\\": 245920}, {\\\"x\\\": 13.0, \\\"y\\\": 130953}]}], \\\"marks\\\": [{\\\"name\\\": \\\"marks\\\", \\\"type\\\": \\\"symbol\\\", \\\"style\\\": [\\\"circle\\\"], \\\"from\\\": {\\\"data\\\": \\\"source_2\\\"}, \\\"encode\\\": {\\\"hover\\\": {\\\"fill\\\": {\\\"value\\\": \\\"#7EC2F3\\\"}}, \\\"update\\\": {\\\"x\\\": {\\\"scale\\\": \\\"x\\\", \\\"field\\\": \\\"x\\\"}, \\\"y\\\": {\\\"scale\\\": \\\"y\\\", \\\"field\\\": \\\"y\\\", \\\"title\\\": \\\"Miles per Gallon\\\"}, \\\"fill\\\": {\\\"value\\\": \\\"#108EE9\\\"}, \\\"shape\\\": {\\\"value\\\": \\\"circle\\\"}, \\\"opacity\\\": {\\\"value\\\": 0.7}}}}], \\\"scales\\\": [{\\\"name\\\": \\\"x\\\", \\\"type\\\": \\\"linear\\\", \\\"domain\\\": {\\\"data\\\": \\\"source_2\\\", \\\"field\\\": \\\"x\\\"}, \\\"range\\\": [0, {\\\"signal\\\": \\\"width\\\"}], \\\"nice\\\": true, \\\"zero\\\": false, \\\"padding\\\": 5}, {\\\"name\\\": \\\"y\\\", \\\"type\\\": \\\"linear\\\", \\\"domain\\\": {\\\"data\\\": \\\"source_2\\\", \\\"field\\\": \\\"y\\\"}, \\\"range\\\": [{\\\"signal\\\": \\\"height\\\"}, 0], \\\"nice\\\": true, \\\"zero\\\": false, \\\"padding\\\": 5}], \\\"axes\\\": [{\\\"scale\\\": \\\"x\\\", \\\"labelOverlap\\\": true, \\\"orient\\\": \\\"bottom\\\", \\\"tickCount\\\": {\\\"signal\\\": \\\"ceil(width/40)\\\"}, \\\"title\\\": \\\"X\\\", \\\"zindex\\\": 1}, {\\\"scale\\\": \\\"x\\\", \\\"domain\\\": false, \\\"grid\\\": true, \\\"labels\\\": false, \\\"maxExtent\\\": 0, \\\"minExtent\\\": 0, \\\"orient\\\": \\\"bottom\\\", \\\"tickCount\\\": {\\\"signal\\\": \\\"ceil(width/40)\\\"}, \\\"ticks\\\": false, \\\"zindex\\\": 0, \\\"gridScale\\\": \\\"y\\\"}, {\\\"scale\\\": \\\"y\\\", \\\"labelOverlap\\\": true, \\\"orient\\\": \\\"left\\\", \\\"tickCount\\\": {\\\"signal\\\": \\\"ceil(height/40)\\\"}, \\\"title\\\": \\\"Y\\\", \\\"zindex\\\": 1}, {\\\"scale\\\": \\\"y\\\", \\\"domain\\\": false, \\\"grid\\\": true, \\\"labels\\\": false, \\\"maxExtent\\\": 0, \\\"minExtent\\\": 0, \\\"orient\\\": \\\"left\\\", \\\"tickCount\\\": {\\\"signal\\\": \\\"ceil(height/40)\\\"}, \\\"ticks\\\": false, \\\"zindex\\\": 0, \\\"gridScale\\\": \\\"x\\\"}], \\\"config\\\": {\\\"axis\\\": {\\\"gridColor\\\": \\\"rgba(204,204,204,1.0)\\\", \\\"labelFont\\\": \\\"\\\\\\\"San Francisco\\\\\\\", HelveticaNeue, Arial\\\", \\\"labelFontSize\\\": 12, \\\"labelPadding\\\": 10, \\\"labelColor\\\": \\\"rgba(0,0,0,0.847)\\\", \\\"tickColor\\\": \\\"rgb(136,136,136)\\\", \\\"titleFont\\\": \\\"\\\\\\\"San Francisco\\\\\\\", HelveticaNeue, Arial\\\", \\\"titleFontWeight\\\": \\\"normal\\\", \\\"titlePadding\\\": 20, \\\"titleFontSize\\\": 14, \\\"titleColor\\\": \\\"rgba(0,0,0,0.847)\\\"}, \\\"axisY\\\": {\\\"minExtent\\\": 30}, \\\"legend\\\": {\\\"labelFont\\\": \\\"\\\\\\\"San Francisco\\\\\\\", HelveticaNeue, Arial\\\", \\\"labelColor\\\": \\\"rgba(0,0,0,0.847)\\\", \\\"titleFont\\\": \\\"\\\\\\\"San Francisco\\\\\\\", HelveticaNeue, Arial\\\", \\\"cornerRadius\\\": 30, \\\"gradientLength\\\": 608, \\\"titleColor\\\": \\\"rgba(0,0,0,0.847)\\\"}, \\\"range\\\": {\\\"heatmap\\\": {\\\"scheme\\\": \\\"greenblue\\\"}}, \\\"style\\\": {\\\"rect\\\": {\\\"stroke\\\": \\\"rgba(200, 200, 200, 0.5)\\\"}, \\\"cell\\\": {\\\"stroke\\\": \\\"transparent\\\"}, \\\"group-title\\\": {\\\"fontSize\\\": 29, \\\"font\\\": \\\"HelveticaNeue, Arial\\\", \\\"fontWeight\\\": \\\"normal\\\", \\\"fill\\\": \\\"rgba(0,0,0,0.65)\\\"}}, \\\"title\\\": {\\\"color\\\": \\\"rgba(0,0,0,0.847)\\\", \\\"font\\\": \\\"\\\\\\\"San Francisco\\\\\\\", HelveticaNeue, Arial\\\", \\\"fontSize\\\": 18, \\\"fontWeight\\\": \\\"normal\\\", \\\"offset\\\": 30}}}\";                                 var vega_json_parsed = JSON.parse(vega_json);                                 var toolTipOpts = {                                     showAllFields: true                                 };                                 if(vega_json_parsed[\"metadata\"] != null){                                     if(vega_json_parsed[\"metadata\"][\"bubbleOpts\"] != null){                                         toolTipOpts = vega_json_parsed[\"metadata\"][\"bubbleOpts\"];                                     };                                 };                                 vegaEmbed(\"#vis\", vega_json_parsed).then(function (result) {                                     vegaTooltip.vega(result.view, toolTipOpts);                                  });                             </script>                         </body>                     </html>' src=\"demo_iframe_srcdoc.htm\">                         <p>Your browser does not support iframes.</p>                     </iframe>                 </body>             </html>"
      ],
      "text/plain": [
       "<IPython.core.display.HTML object>"
      ]
     },
     "metadata": {},
     "output_type": "display_data"
    }
   ],
   "source": [
    "turicreate.show(sales[\"CrimeRate\"], sales[\"HousePrice\"])"
   ]
  },
  {
   "cell_type": "markdown",
   "metadata": {},
   "source": [
    "# Fit the regression model using crime as the feature"
   ]
  },
  {
   "cell_type": "code",
   "execution_count": 8,
   "metadata": {},
   "outputs": [],
   "source": [
    "crime_model = turicreate.linear_regression.create(\n",
    "    sales,\n",
    "    target=\"HousePrice\",\n",
    "    features=['CrimeRate'],\n",
    "    validation_set=None,\n",
    "    verbose=False\n",
    ")"
   ]
  },
  {
   "cell_type": "markdown",
   "metadata": {},
   "source": [
    "# Let's see what our fit looks like"
   ]
  },
  {
   "cell_type": "markdown",
   "metadata": {},
   "source": [
    "Matplotlib is a Python plotting library that is also useful for plotting.  You can install it with:\n",
    "\n",
    "'pip install matplotlib'"
   ]
  },
  {
   "cell_type": "code",
   "execution_count": 9,
   "metadata": {},
   "outputs": [],
   "source": [
    "import matplotlib.pyplot as plt\n",
    "%matplotlib inline"
   ]
  },
  {
   "cell_type": "code",
   "execution_count": 10,
   "metadata": {
    "scrolled": true
   },
   "outputs": [
    {
     "data": {
      "text/plain": [
       "[<matplotlib.lines.Line2D at 0x7fe8da358a30>,\n",
       " <matplotlib.lines.Line2D at 0x7fe8da358b20>]"
      ]
     },
     "execution_count": 10,
     "metadata": {},
     "output_type": "execute_result"
    },
    {
     "data": {
      "image/png": "[encoded data removed]",
      "text/plain": [
       "<Figure size 432x288 with 1 Axes>"
      ]
     },
     "metadata": {
      "needs_background": "light"
     },
     "output_type": "display_data"
    }
   ],
   "source": [
    "plt.plot(sales['CrimeRate'],sales['HousePrice'],'.',\n",
    "        sales['CrimeRate'],crime_model.predict(sales),'-')"
   ]
  },
  {
   "cell_type": "markdown",
   "metadata": {},
   "source": [
    "Above: blue dots are original data, green line is the fit from the simple regression."
   ]
  },
  {
   "cell_type": "markdown",
   "metadata": {},
   "source": [
    "# Remove Center City and redo the analysis"
   ]
  },
  {
   "cell_type": "markdown",
   "metadata": {},
   "source": [
    "Center City is the one observation with an extremely high crime rate, yet house prices are not very low.  This point does not follow the trend of the rest of the data very well.  A question is how much including Center City is influencing our fit on the other datapoints.  Let's remove this datapoint and see what happens."
   ]
  },
  {
   "cell_type": "code",
   "execution_count": 11,
   "metadata": {},
   "outputs": [],
   "source": [
    "sales_noCC = sales[sales['MilesPhila'] != 0.0] "
   ]
  },
  {
   "cell_type": "code",
   "execution_count": 12,
   "metadata": {},
   "outputs": [
    {
     "data": {
      "text/html": [
       "<pre>Materializing X axis SArray</pre>"
      ],
      "text/plain": [
       "Materializing X axis SArray"
      ]
     },
     "metadata": {},
     "output_type": "display_data"
    },
    {
     "data": {
      "text/html": [
       "<pre>Materializing Y axis SArray</pre>"
      ],
      "text/plain": [
       "Materializing Y axis SArray"
      ]
     },
     "metadata": {},
     "output_type": "display_data"
    },
    {
     "data": {
      "text/html": [
       "<html>                 <body>                     <iframe style=\"border:0;margin:0\" width=\"920\" height=\"770\" srcdoc='<html lang=\"en\">                         <head>                             <script src=\"https://cdnjs.cloudflare.com/ajax/libs/vega/5.4.0/vega.js\"></script>                             <script src=\"https://cdnjs.cloudflare.com/ajax/libs/vega-embed/4.0.0/vega-embed.js\"></script>                             <script src=\"https://cdnjs.cloudflare.com/ajax/libs/vega-tooltip/0.5.1/vega-tooltip.min.js\"></script>                             <link rel=\"stylesheet\" type=\"text/css\" href=\"https://cdnjs.cloudflare.com/ajax/libs/vega-tooltip/0.5.1/vega-tooltip.min.css\">                             <style>                             .vega-actions > a{                                 color:white;                                 text-decoration: none;                                 font-family: \"Arial\";                                 cursor:pointer;                                 padding:5px;                                 background:#AAAAAA;                                 border-radius:4px;                                 padding-left:10px;                                 padding-right:10px;                                 margin-right:5px;                             }                             .vega-actions{                                 margin-top:20px;                                 text-align:center                             }                            .vega-actions > a{                                 background:#999999;                            }                             </style>                         </head>                         <body>                             <div id=\"vis\">                             </div>                             <script>                                 var vega_json = \"{\\\"$schema\\\": \\\"https://vega.github.io/schema/vega/v4.json\\\", \\\"autosize\\\": {\\\"type\\\": \\\"fit\\\", \\\"resize\\\": false, \\\"contains\\\": \\\"padding\\\"}, \\\"padding\\\": 8, \\\"width\\\": 720, \\\"height\\\": 550, \\\"style\\\": \\\"cell\\\", \\\"title\\\": \\\"X vs. Y\\\", \\\"data\\\": [{\\\"name\\\": \\\"source_2\\\", \\\"values\\\": [{\\\"x\\\": 29.7, \\\"y\\\": 140463}, {\\\"x\\\": 24.1, \\\"y\\\": 113033}, {\\\"x\\\": 19.5, \\\"y\\\": 124186}, {\\\"x\\\": 49.4, \\\"y\\\": 110490}, {\\\"x\\\": 54.1, \\\"y\\\": 79124}, {\\\"x\\\": 48.6, \\\"y\\\": 92634}, {\\\"x\\\": 30.8, \\\"y\\\": 89246}, {\\\"x\\\": 10.8, \\\"y\\\": 195145}, {\\\"x\\\": 20.2, \\\"y\\\": 297342}, {\\\"x\\\": 20.4, \\\"y\\\": 264298}, {\\\"x\\\": 17.3, \\\"y\\\": 134342}, {\\\"x\\\": 50.3, \\\"y\\\": 147600}, {\\\"x\\\": 34.2, \\\"y\\\": 77370}, {\\\"x\\\": 33.7, \\\"y\\\": 170822}, {\\\"x\\\": 45.7, \\\"y\\\": 40642}, {\\\"x\\\": 22.3, \\\"y\\\": 71359}, {\\\"x\\\": 48.1, \\\"y\\\": 104923}, {\\\"x\\\": 19.4, \\\"y\\\": 190317}, {\\\"x\\\": 71.9, \\\"y\\\": 215512}, {\\\"x\\\": 45.1, \\\"y\\\": 178105}, {\\\"x\\\": 31.3, \\\"y\\\": 131025}, {\\\"x\\\": 24.9, \\\"y\\\": 149844}, {\\\"x\\\": 27.2, \\\"y\\\": 170556}, {\\\"x\\\": 17.7, \\\"y\\\": 280969}, {\\\"x\\\": 29.0, \\\"y\\\": 114233}, {\\\"x\\\": 21.4, \\\"y\\\": 74502}, {\\\"x\\\": 28.6, \\\"y\\\": 475112}, {\\\"x\\\": 29.3, \\\"y\\\": 97167}, {\\\"x\\\": 17.5, \\\"y\\\": 114572}, {\\\"x\\\": 16.5, \\\"y\\\": 436348}, {\\\"x\\\": 17.8, \\\"y\\\": 389302}, {\\\"x\\\": 17.3, \\\"y\\\": 122392}, {\\\"x\\\": 31.2, \\\"y\\\": 130436}, {\\\"x\\\": 14.5, \\\"y\\\": 272790}, {\\\"x\\\": 15.7, \\\"y\\\": 194435}, {\\\"x\\\": 28.6, \\\"y\\\": 299621}, {\\\"x\\\": 20.8, \\\"y\\\": 210884}, {\\\"x\\\": 29.3, \\\"y\\\": 112471}, {\\\"x\\\": 19.3, \\\"y\\\": 93738}, {\\\"x\\\": 39.5, \\\"y\\\": 121024}, {\\\"x\\\": 13.0, \\\"y\\\": 156035}, {\\\"x\\\": 24.1, \\\"y\\\": 185404}, {\\\"x\\\": 38.0, \\\"y\\\": 126160}, {\\\"x\\\": 40.1, \\\"y\\\": 143072}, {\\\"x\\\": 36.1, \\\"y\\\": 96769}, {\\\"x\\\": 26.6, \\\"y\\\": 94014}, {\\\"x\\\": 25.1, \\\"y\\\": 118214}, {\\\"x\\\": 14.6, \\\"y\\\": 157446}, {\\\"x\\\": 18.2, \\\"y\\\": 150283}, {\\\"x\\\": 15.3, \\\"y\\\": 153842}, {\\\"x\\\": 15.2, \\\"y\\\": 197214}, {\\\"x\\\": 17.4, \\\"y\\\": 206127}, {\\\"x\\\": 73.3, \\\"y\\\": 71981}, {\\\"x\\\": 7.1, \\\"y\\\": 169401}, {\\\"x\\\": 12.5, \\\"y\\\": 99843}, {\\\"x\\\": 45.8, \\\"y\\\": 60000}, {\\\"x\\\": 44.9, \\\"y\\\": 28000}, {\\\"x\\\": 65.0, \\\"y\\\": 60000}, {\\\"x\\\": 49.9, \\\"y\\\": 61800}, {\\\"x\\\": 54.8, \\\"y\\\": 38000}, {\\\"x\\\": 53.5, \\\"y\\\": 38000}, {\\\"x\\\": 69.9, \\\"y\\\": 42000}, {\\\"x\\\": 24.6, \\\"y\\\": 103087}, {\\\"x\\\": 58.6, \\\"y\\\": 147720}, {\\\"x\\\": 53.2, \\\"y\\\": 78175}, {\\\"x\\\": 17.4, \\\"y\\\": 92215}, {\\\"x\\\": 15.5, \\\"y\\\": 271804}, {\\\"x\\\": 14.5, \\\"y\\\": 119566}, {\\\"x\\\": 24.1, \\\"y\\\": 100231}, {\\\"x\\\": 21.2, \\\"y\\\": 95831}, {\\\"x\\\": 9.8, \\\"y\\\": 229711}, {\\\"x\\\": 29.9, \\\"y\\\": 74308}, {\\\"x\\\": 7.2, \\\"y\\\": 259506}, {\\\"x\\\": 19.4, \\\"y\\\": 159573}, {\\\"x\\\": 41.1, \\\"y\\\": 147176}, {\\\"x\\\": 11.2, \\\"y\\\": 205732}, {\\\"x\\\": 21.2, \\\"y\\\": 215783}, {\\\"x\\\": 42.8, \\\"y\\\": 116710}, {\\\"x\\\": 9.4, \\\"y\\\": 359112}, {\\\"x\\\": 61.7, \\\"y\\\": 189959}, {\\\"x\\\": 19.4, \\\"y\\\": 133198}, {\\\"x\\\": 6.6, \\\"y\\\": 242821}, {\\\"x\\\": 15.9, \\\"y\\\": 142811}, {\\\"x\\\": 18.8, \\\"y\\\": 200498}, {\\\"x\\\": 13.2, \\\"y\\\": 199065}, {\\\"x\\\": 34.5, \\\"y\\\": 93648}, {\\\"x\\\": 22.1, \\\"y\\\": 163001}, {\\\"x\\\": 22.1, \\\"y\\\": 436348}, {\\\"x\\\": 71.9, \\\"y\\\": 124478}, {\\\"x\\\": 31.9, \\\"y\\\": 168276}, {\\\"x\\\": 44.6, \\\"y\\\": 114157}, {\\\"x\\\": 28.6, \\\"y\\\": 130088}, {\\\"x\\\": 24.0, \\\"y\\\": 152624}, {\\\"x\\\": 13.8, \\\"y\\\": 174232}, {\\\"x\\\": 29.9, \\\"y\\\": 196515}, {\\\"x\\\": 9.9, \\\"y\\\": 232714}, {\\\"x\\\": 22.6, \\\"y\\\": 245920}, {\\\"x\\\": 13.0, \\\"y\\\": 130953}]}], \\\"marks\\\": [{\\\"name\\\": \\\"marks\\\", \\\"type\\\": \\\"symbol\\\", \\\"style\\\": [\\\"circle\\\"], \\\"from\\\": {\\\"data\\\": \\\"source_2\\\"}, \\\"encode\\\": {\\\"hover\\\": {\\\"fill\\\": {\\\"value\\\": \\\"#7EC2F3\\\"}}, \\\"update\\\": {\\\"x\\\": {\\\"scale\\\": \\\"x\\\", \\\"field\\\": \\\"x\\\"}, \\\"y\\\": {\\\"scale\\\": \\\"y\\\", \\\"field\\\": \\\"y\\\", \\\"title\\\": \\\"Miles per Gallon\\\"}, \\\"fill\\\": {\\\"value\\\": \\\"#108EE9\\\"}, \\\"shape\\\": {\\\"value\\\": \\\"circle\\\"}, \\\"opacity\\\": {\\\"value\\\": 0.7}}}}], \\\"scales\\\": [{\\\"name\\\": \\\"x\\\", \\\"type\\\": \\\"linear\\\", \\\"domain\\\": {\\\"data\\\": \\\"source_2\\\", \\\"field\\\": \\\"x\\\"}, \\\"range\\\": [0, {\\\"signal\\\": \\\"width\\\"}], \\\"nice\\\": true, \\\"zero\\\": false, \\\"padding\\\": 5}, {\\\"name\\\": \\\"y\\\", \\\"type\\\": \\\"linear\\\", \\\"domain\\\": {\\\"data\\\": \\\"source_2\\\", \\\"field\\\": \\\"y\\\"}, \\\"range\\\": [{\\\"signal\\\": \\\"height\\\"}, 0], \\\"nice\\\": true, \\\"zero\\\": false, \\\"padding\\\": 5}], \\\"axes\\\": [{\\\"scale\\\": \\\"x\\\", \\\"labelOverlap\\\": true, \\\"orient\\\": \\\"bottom\\\", \\\"tickCount\\\": {\\\"signal\\\": \\\"ceil(width/40)\\\"}, \\\"title\\\": \\\"X\\\", \\\"zindex\\\": 1}, {\\\"scale\\\": \\\"x\\\", \\\"domain\\\": false, \\\"grid\\\": true, \\\"labels\\\": false, \\\"maxExtent\\\": 0, \\\"minExtent\\\": 0, \\\"orient\\\": \\\"bottom\\\", \\\"tickCount\\\": {\\\"signal\\\": \\\"ceil(width/40)\\\"}, \\\"ticks\\\": false, \\\"zindex\\\": 0, \\\"gridScale\\\": \\\"y\\\"}, {\\\"scale\\\": \\\"y\\\", \\\"labelOverlap\\\": true, \\\"orient\\\": \\\"left\\\", \\\"tickCount\\\": {\\\"signal\\\": \\\"ceil(height/40)\\\"}, \\\"title\\\": \\\"Y\\\", \\\"zindex\\\": 1}, {\\\"scale\\\": \\\"y\\\", \\\"domain\\\": false, \\\"grid\\\": true, \\\"labels\\\": false, \\\"maxExtent\\\": 0, \\\"minExtent\\\": 0, \\\"orient\\\": \\\"left\\\", \\\"tickCount\\\": {\\\"signal\\\": \\\"ceil(height/40)\\\"}, \\\"ticks\\\": false, \\\"zindex\\\": 0, \\\"gridScale\\\": \\\"x\\\"}], \\\"config\\\": {\\\"axis\\\": {\\\"gridColor\\\": \\\"rgba(204,204,204,1.0)\\\", \\\"labelFont\\\": \\\"\\\\\\\"San Francisco\\\\\\\", HelveticaNeue, Arial\\\", \\\"labelFontSize\\\": 12, \\\"labelPadding\\\": 10, \\\"labelColor\\\": \\\"rgba(0,0,0,0.847)\\\", \\\"tickColor\\\": \\\"rgb(136,136,136)\\\", \\\"titleFont\\\": \\\"\\\\\\\"San Francisco\\\\\\\", HelveticaNeue, Arial\\\", \\\"titleFontWeight\\\": \\\"normal\\\", \\\"titlePadding\\\": 20, \\\"titleFontSize\\\": 14, \\\"titleColor\\\": \\\"rgba(0,0,0,0.847)\\\"}, \\\"axisY\\\": {\\\"minExtent\\\": 30}, \\\"legend\\\": {\\\"labelFont\\\": \\\"\\\\\\\"San Francisco\\\\\\\", HelveticaNeue, Arial\\\", \\\"labelColor\\\": \\\"rgba(0,0,0,0.847)\\\", \\\"titleFont\\\": \\\"\\\\\\\"San Francisco\\\\\\\", HelveticaNeue, Arial\\\", \\\"cornerRadius\\\": 30, \\\"gradientLength\\\": 608, \\\"titleColor\\\": \\\"rgba(0,0,0,0.847)\\\"}, \\\"range\\\": {\\\"heatmap\\\": {\\\"scheme\\\": \\\"greenblue\\\"}}, \\\"style\\\": {\\\"rect\\\": {\\\"stroke\\\": \\\"rgba(200, 200, 200, 0.5)\\\"}, \\\"cell\\\": {\\\"stroke\\\": \\\"transparent\\\"}, \\\"group-title\\\": {\\\"fontSize\\\": 29, \\\"font\\\": \\\"HelveticaNeue, Arial\\\", \\\"fontWeight\\\": \\\"normal\\\", \\\"fill\\\": \\\"rgba(0,0,0,0.65)\\\"}}, \\\"title\\\": {\\\"color\\\": \\\"rgba(0,0,0,0.847)\\\", \\\"font\\\": \\\"\\\\\\\"San Francisco\\\\\\\", HelveticaNeue, Arial\\\", \\\"fontSize\\\": 18, \\\"fontWeight\\\": \\\"normal\\\", \\\"offset\\\": 30}}}\";                                 var vega_json_parsed = JSON.parse(vega_json);                                 var toolTipOpts = {                                     showAllFields: true                                 };                                 if(vega_json_parsed[\"metadata\"] != null){                                     if(vega_json_parsed[\"metadata\"][\"bubbleOpts\"] != null){                                         toolTipOpts = vega_json_parsed[\"metadata\"][\"bubbleOpts\"];                                     };                                 };                                 vegaEmbed(\"#vis\", vega_json_parsed).then(function (result) {                                     vegaTooltip.vega(result.view, toolTipOpts);                                  });                             </script>                         </body>                     </html>' src=\"demo_iframe_srcdoc.htm\">                         <p>Your browser does not support iframes.</p>                     </iframe>                 </body>             </html>"
      ],
      "text/plain": [
       "<IPython.core.display.HTML object>"
      ]
     },
     "metadata": {},
     "output_type": "display_data"
    }
   ],
   "source": [
    "turicreate.show(sales_noCC['CrimeRate'], sales_noCC['HousePrice'])"
   ]
  },
  {
   "cell_type": "markdown",
   "metadata": {},
   "source": [
    "### Refit our simple regression model on this modified dataset:"
   ]
  },
  {
   "cell_type": "code",
   "execution_count": 13,
   "metadata": {},
   "outputs": [],
   "source": [
    "crime_model_noCC = turicreate.linear_regression.create(\n",
    "    sales_noCC,\n",
    "    target='HousePrice',\n",
    "    features=['CrimeRate'],\n",
    "    validation_set = None,\n",
    "    verbose = False\n",
    ")"
   ]
  },
  {
   "cell_type": "markdown",
   "metadata": {},
   "source": [
    "### Look at the fit:"
   ]
  },
  {
   "cell_type": "code",
   "execution_count": 14,
   "metadata": {},
   "outputs": [
    {
     "data": {
      "text/plain": [
       "[<matplotlib.lines.Line2D at 0x7fe8da8e8310>,\n",
       " <matplotlib.lines.Line2D at 0x7fe8da8e8340>]"
      ]
     },
     "execution_count": 14,
     "metadata": {},
     "output_type": "execute_result"
    },
    {
     "data": {
      "image/png": "[encoded data removed]",
      "text/plain": [
       "<Figure size 432x288 with 1 Axes>"
      ]
     },
     "metadata": {
      "needs_background": "light"
     },
     "output_type": "display_data"
    }
   ],
   "source": [
    "plt.plot(sales_noCC['CrimeRate'], sales_noCC['HousePrice'], '.',\n",
    "         sales_noCC['CrimeRate'], crime_model_noCC.predict(sales_noCC), '-')"
   ]
  },
  {
   "cell_type": "markdown",
   "metadata": {},
   "source": [
    "# Compare coefficients for full-data fit versus no-Center-City fit"
   ]
  },
  {
   "cell_type": "markdown",
   "metadata": {},
   "source": [
    "Visually, the fit seems different, but let's quantify this by examining the estimated coefficients of our original fit and that of the modified dataset with Center City removed."
   ]
  },
  {
   "cell_type": "code",
   "execution_count": 17,
   "metadata": {},
   "outputs": [
    {
     "data": {
      "text/html": [
       "<div style=\"max-height:1000px;max-width:1500px;overflow:auto;\"><table frame=\"box\" rules=\"cols\">\n",
       "    <tr>\n",
       "        <th style=\"padding-left: 1em; padding-right: 1em; text-align: center\">name</th>\n",
       "        <th style=\"padding-left: 1em; padding-right: 1em; text-align: center\">index</th>\n",
       "        <th style=\"padding-left: 1em; padding-right: 1em; text-align: center\">value</th>\n",
       "        <th style=\"padding-left: 1em; padding-right: 1em; text-align: center\">stderr</th>\n",
       "    </tr>\n",
       "    <tr>\n",
       "        <td style=\"padding-left: 1em; padding-right: 1em; text-align: center; vertical-align: top\">(intercept)</td>\n",
       "        <td style=\"padding-left: 1em; padding-right: 1em; text-align: center; vertical-align: top\">None</td>\n",
       "        <td style=\"padding-left: 1em; padding-right: 1em; text-align: center; vertical-align: top\">176626.04688088183</td>\n",
       "        <td style=\"padding-left: 1em; padding-right: 1em; text-align: center; vertical-align: top\">11245.588219378817</td>\n",
       "    </tr>\n",
       "    <tr>\n",
       "        <td style=\"padding-left: 1em; padding-right: 1em; text-align: center; vertical-align: top\">CrimeRate</td>\n",
       "        <td style=\"padding-left: 1em; padding-right: 1em; text-align: center; vertical-align: top\">None</td>\n",
       "        <td style=\"padding-left: 1em; padding-right: 1em; text-align: center; vertical-align: top\">-576.8049490581076</td>\n",
       "        <td style=\"padding-left: 1em; padding-right: 1em; text-align: center; vertical-align: top\">226.9022595096533</td>\n",
       "    </tr>\n",
       "</table>\n",
       "[2 rows x 4 columns]<br/>\n",
       "</div>"
      ],
      "text/plain": [
       "Columns:\n",
       "\tname\tstr\n",
       "\tindex\tstr\n",
       "\tvalue\tfloat\n",
       "\tstderr\tfloat\n",
       "\n",
       "Rows: 2\n",
       "\n",
       "Data:\n",
       "+-------------+-------+--------------------+--------------------+\n",
       "|     name    | index |       value        |       stderr       |\n",
       "+-------------+-------+--------------------+--------------------+\n",
       "| (intercept) |  None | 176626.04688088183 | 11245.588219378817 |\n",
       "|  CrimeRate  |  None | -576.8049490581076 | 226.9022595096533  |\n",
       "+-------------+-------+--------------------+--------------------+\n",
       "[2 rows x 4 columns]"
      ]
     },
     "execution_count": 17,
     "metadata": {},
     "output_type": "execute_result"
    }
   ],
   "source": [
    "crime_model.coefficients"
   ]
  },
  {
   "cell_type": "code",
   "execution_count": 18,
   "metadata": {},
   "outputs": [
    {
     "data": {
      "text/html": [
       "<div style=\"max-height:1000px;max-width:1500px;overflow:auto;\"><table frame=\"box\" rules=\"cols\">\n",
       "    <tr>\n",
       "        <th style=\"padding-left: 1em; padding-right: 1em; text-align: center\">name</th>\n",
       "        <th style=\"padding-left: 1em; padding-right: 1em; text-align: center\">index</th>\n",
       "        <th style=\"padding-left: 1em; padding-right: 1em; text-align: center\">value</th>\n",
       "        <th style=\"padding-left: 1em; padding-right: 1em; text-align: center\">stderr</th>\n",
       "    </tr>\n",
       "    <tr>\n",
       "        <td style=\"padding-left: 1em; padding-right: 1em; text-align: center; vertical-align: top\">(intercept)</td>\n",
       "        <td style=\"padding-left: 1em; padding-right: 1em; text-align: center; vertical-align: top\">None</td>\n",
       "        <td style=\"padding-left: 1em; padding-right: 1em; text-align: center; vertical-align: top\">225204.60430309846</td>\n",
       "        <td style=\"padding-left: 1em; padding-right: 1em; text-align: center; vertical-align: top\">16404.024751386656</td>\n",
       "    </tr>\n",
       "    <tr>\n",
       "        <td style=\"padding-left: 1em; padding-right: 1em; text-align: center; vertical-align: top\">CrimeRate</td>\n",
       "        <td style=\"padding-left: 1em; padding-right: 1em; text-align: center; vertical-align: top\">None</td>\n",
       "        <td style=\"padding-left: 1em; padding-right: 1em; text-align: center; vertical-align: top\">-2287.6971744328953</td>\n",
       "        <td style=\"padding-left: 1em; padding-right: 1em; text-align: center; vertical-align: top\">491.53747812308956</td>\n",
       "    </tr>\n",
       "</table>\n",
       "[2 rows x 4 columns]<br/>\n",
       "</div>"
      ],
      "text/plain": [
       "Columns:\n",
       "\tname\tstr\n",
       "\tindex\tstr\n",
       "\tvalue\tfloat\n",
       "\tstderr\tfloat\n",
       "\n",
       "Rows: 2\n",
       "\n",
       "Data:\n",
       "+-------------+-------+---------------------+--------------------+\n",
       "|     name    | index |        value        |       stderr       |\n",
       "+-------------+-------+---------------------+--------------------+\n",
       "| (intercept) |  None |  225204.60430309846 | 16404.024751386656 |\n",
       "|  CrimeRate  |  None | -2287.6971744328953 | 491.53747812308956 |\n",
       "+-------------+-------+---------------------+--------------------+\n",
       "[2 rows x 4 columns]"
      ]
     },
     "execution_count": 18,
     "metadata": {},
     "output_type": "execute_result"
    }
   ],
   "source": [
    "crime_model_noCC.coefficients"
   ]
  },
  {
   "cell_type": "markdown",
   "metadata": {},
   "source": [
    "Above: We see that for the \"no Center City\" version, per unit increase in crime, the predicted decrease in house prices is 2,287.  In contrast, for the original dataset, the drop is only 576 per unit increase in crime.  This is significantly different!"
   ]
  },
  {
   "cell_type": "markdown",
   "metadata": {},
   "source": [
    "### High leverage points: \n",
    "Center City is said to be a \"high leverage\" point because it is at an extreme x value where there are not other observations.  As a result, recalling the closed-form solution for simple regression, this point has the *potential* to dramatically change the least squares line since the center of x mass is heavily influenced by this one point and the least squares line will try to fit close to that outlying (in x) point.  If a high leverage point follows the trend of the other data, this might not have much effect.  On the other hand, if this point somehow differs, it can be strongly influential in the resulting fit.\n",
    "\n",
    "### Influential observations:  \n",
    "An influential observation is one where the removal of the point significantly changes the fit.  As discussed above, high leverage points are good candidates for being influential observations, but need not be.  Other observations that are *not* leverage points can also be influential observations (e.g., strongly outlying in y even if x is a typical value)."
   ]
  },
  {
   "cell_type": "markdown",
   "metadata": {},
   "source": [
    "### Plotting the two models\n",
    "Confirm the above calculations by looking at the plots. The orange line is the model trained removing Center City, and the green line is the model trained on all the data. Notice how much steeper the green line is, since the drop in value is much higher according to this model."
   ]
  },
  {
   "cell_type": "code",
   "execution_count": 14,
   "metadata": {},
   "outputs": [
    {
     "data": {
      "text/plain": [
       "[<matplotlib.lines.Line2D at 0x12437ec50>,\n",
       " <matplotlib.lines.Line2D at 0x10cb8dc10>,\n",
       " <matplotlib.lines.Line2D at 0x10cb9a490>]"
      ]
     },
     "execution_count": 14,
     "metadata": {},
     "output_type": "execute_result"
    },
    {
     "data": {
      "image/png": "[encoded data removed]",
      "text/plain": [
       "<Figure size 432x288 with 1 Axes>"
      ]
     },
     "metadata": {
      "needs_background": "light"
     },
     "output_type": "display_data"
    }
   ],
   "source": [
    "plt.plot(sales_noCC['CrimeRate'], sales_noCC['HousePrice'], '.',\n",
    "         sales_noCC['CrimeRate'], crime_model.predict(sales_noCC), '-',\n",
    "         sales_noCC['CrimeRate'], crime_model_noCC.predict(sales_noCC), '-')"
   ]
  },
  {
   "cell_type": "markdown",
   "metadata": {},
   "source": [
    "# Remove high-value outlier neighborhoods and redo analysis"
   ]
  },
  {
   "cell_type": "markdown",
   "metadata": {},
   "source": [
    "Based on the discussion above, a question is whether the outlying high-value towns are strongly influencing the fit.  Let's remove them and see what happens."
   ]
  },
  {
   "cell_type": "code",
   "execution_count": 19,
   "metadata": {},
   "outputs": [],
   "source": [
    "sales_nohighend = sales_noCC[sales_noCC['HousePrice'] < 350000]\n",
    "crime_model_nohighend = turicreate.linear_regression.create(\n",
    "    sales_nohighend,\n",
    "    target='HousePrice',\n",
    "    features=['CrimeRate'],\n",
    "    validation_set=None,\n",
    "    verbose=False\n",
    ")"
   ]
  },
  {
   "cell_type": "markdown",
   "metadata": {},
   "source": [
    "### Do the coefficients change much?"
   ]
  },
  {
   "cell_type": "code",
   "execution_count": 16,
   "metadata": {},
   "outputs": [
    {
     "data": {
      "text/html": [
       "<div style=\"max-height:1000px;max-width:1500px;overflow:auto;\"><table frame=\"box\" rules=\"cols\">\n",
       "    <tr>\n",
       "        <th style=\"padding-left: 1em; padding-right: 1em; text-align: center\">name</th>\n",
       "        <th style=\"padding-left: 1em; padding-right: 1em; text-align: center\">index</th>\n",
       "        <th style=\"padding-left: 1em; padding-right: 1em; text-align: center\">value</th>\n",
       "        <th style=\"padding-left: 1em; padding-right: 1em; text-align: center\">stderr</th>\n",
       "    </tr>\n",
       "    <tr>\n",
       "        <td style=\"padding-left: 1em; padding-right: 1em; text-align: center; vertical-align: top\">(intercept)</td>\n",
       "        <td style=\"padding-left: 1em; padding-right: 1em; text-align: center; vertical-align: top\">None</td>\n",
       "        <td style=\"padding-left: 1em; padding-right: 1em; text-align: center; vertical-align: top\">225204.604303</td>\n",
       "        <td style=\"padding-left: 1em; padding-right: 1em; text-align: center; vertical-align: top\">16404.0247483</td>\n",
       "    </tr>\n",
       "    <tr>\n",
       "        <td style=\"padding-left: 1em; padding-right: 1em; text-align: center; vertical-align: top\">CrimeRate</td>\n",
       "        <td style=\"padding-left: 1em; padding-right: 1em; text-align: center; vertical-align: top\">None</td>\n",
       "        <td style=\"padding-left: 1em; padding-right: 1em; text-align: center; vertical-align: top\">-2287.69717443</td>\n",
       "        <td style=\"padding-left: 1em; padding-right: 1em; text-align: center; vertical-align: top\">491.537478029</td>\n",
       "    </tr>\n",
       "</table>\n",
       "[2 rows x 4 columns]<br/>\n",
       "</div>"
      ],
      "text/plain": [
       "Columns:\n",
       "\tname\tstr\n",
       "\tindex\tstr\n",
       "\tvalue\tfloat\n",
       "\tstderr\tfloat\n",
       "\n",
       "Rows: 2\n",
       "\n",
       "Data:\n",
       "+-------------+-------+----------------+---------------+\n",
       "|     name    | index |     value      |     stderr    |\n",
       "+-------------+-------+----------------+---------------+\n",
       "| (intercept) |  None | 225204.604303  | 16404.0247483 |\n",
       "|  CrimeRate  |  None | -2287.69717443 | 491.537478029 |\n",
       "+-------------+-------+----------------+---------------+\n",
       "[2 rows x 4 columns]"
      ]
     },
     "execution_count": 16,
     "metadata": {},
     "output_type": "execute_result"
    }
   ],
   "source": [
    "crime_model_noCC.coefficients"
   ]
  },
  {
   "cell_type": "code",
   "execution_count": 17,
   "metadata": {},
   "outputs": [
    {
     "data": {
      "text/html": [
       "<div style=\"max-height:1000px;max-width:1500px;overflow:auto;\"><table frame=\"box\" rules=\"cols\">\n",
       "    <tr>\n",
       "        <th style=\"padding-left: 1em; padding-right: 1em; text-align: center\">name</th>\n",
       "        <th style=\"padding-left: 1em; padding-right: 1em; text-align: center\">index</th>\n",
       "        <th style=\"padding-left: 1em; padding-right: 1em; text-align: center\">value</th>\n",
       "        <th style=\"padding-left: 1em; padding-right: 1em; text-align: center\">stderr</th>\n",
       "    </tr>\n",
       "    <tr>\n",
       "        <td style=\"padding-left: 1em; padding-right: 1em; text-align: center; vertical-align: top\">(intercept)</td>\n",
       "        <td style=\"padding-left: 1em; padding-right: 1em; text-align: center; vertical-align: top\">None</td>\n",
       "        <td style=\"padding-left: 1em; padding-right: 1em; text-align: center; vertical-align: top\">199073.589615</td>\n",
       "        <td style=\"padding-left: 1em; padding-right: 1em; text-align: center; vertical-align: top\">11932.510108</td>\n",
       "    </tr>\n",
       "    <tr>\n",
       "        <td style=\"padding-left: 1em; padding-right: 1em; text-align: center; vertical-align: top\">CrimeRate</td>\n",
       "        <td style=\"padding-left: 1em; padding-right: 1em; text-align: center; vertical-align: top\">None</td>\n",
       "        <td style=\"padding-left: 1em; padding-right: 1em; text-align: center; vertical-align: top\">-1837.71280989</td>\n",
       "        <td style=\"padding-left: 1em; padding-right: 1em; text-align: center; vertical-align: top\">351.519609261</td>\n",
       "    </tr>\n",
       "</table>\n",
       "[2 rows x 4 columns]<br/>\n",
       "</div>"
      ],
      "text/plain": [
       "Columns:\n",
       "\tname\tstr\n",
       "\tindex\tstr\n",
       "\tvalue\tfloat\n",
       "\tstderr\tfloat\n",
       "\n",
       "Rows: 2\n",
       "\n",
       "Data:\n",
       "+-------------+-------+----------------+---------------+\n",
       "|     name    | index |     value      |     stderr    |\n",
       "+-------------+-------+----------------+---------------+\n",
       "| (intercept) |  None | 199073.589615  |  11932.510108 |\n",
       "|  CrimeRate  |  None | -1837.71280989 | 351.519609261 |\n",
       "+-------------+-------+----------------+---------------+\n",
       "[2 rows x 4 columns]"
      ]
     },
     "execution_count": 17,
     "metadata": {},
     "output_type": "execute_result"
    }
   ],
   "source": [
    "crime_model_nohighend.coefficients"
   ]
  },
  {
   "cell_type": "markdown",
   "metadata": {},
   "source": [
    "Above: We see that removing the outlying high-value neighborhoods has *some* effect on the fit, but not nearly as much as our high-leverage Center City datapoint."
   ]
  },
  {
   "cell_type": "markdown",
   "metadata": {
    "collapsed": true
   },
   "source": [
    "### Compare the two models\n",
    "Confirm the above calculations by looking at the plots. The orange line is the no high-end model, and the green line is the no-city-center model."
   ]
  },
  {
   "cell_type": "code",
   "execution_count": 18,
   "metadata": {},
   "outputs": [
    {
     "data": {
      "text/plain": [
       "[<matplotlib.lines.Line2D at 0x10cbb0a10>,\n",
       " <matplotlib.lines.Line2D at 0x124533310>,\n",
       " <matplotlib.lines.Line2D at 0x124533b50>]"
      ]
     },
     "execution_count": 18,
     "metadata": {},
     "output_type": "execute_result"
    },
    {
     "data": {
      "image/png": "[encoded data removed]",
      "text/plain": [
       "<Figure size 432x288 with 1 Axes>"
      ]
     },
     "metadata": {
      "needs_background": "light"
     },
     "output_type": "display_data"
    }
   ],
   "source": [
    "plt.plot(sales_nohighend['CrimeRate'], sales_nohighend['HousePrice'], '.',\n",
    "         sales_nohighend['CrimeRate'], crime_model_nohighend.predict(sales_nohighend), '-',\n",
    "         sales_nohighend['CrimeRate'], crime_model_noCC.predict(sales_nohighend), '-')         "
   ]
  },
  {
   "cell_type": "code",
   "execution_count": null,
   "metadata": {},
   "outputs": [],
   "source": []
  },
  {
   "cell_type": "code",
   "execution_count": null,
   "metadata": {},
   "outputs": [],
   "source": []
  },
  {
   "cell_type": "code",
   "execution_count": null,
   "metadata": {},
   "outputs": [],
   "source": []
  }
 ],
 "metadata": {
  "kernelspec": {
   "display_name": "Python 3",
   "language": "python",
   "name": "python3"
  },
  "language_info": {
   "codemirror_mode": {
    "name": "ipython",
    "version": 3
   },
   "file_extension": ".py",
   "mimetype": "text/x-python",
   "name": "python",
   "nbconvert_exporter": "python",
   "pygments_lexer": "ipython3",
   "version": "3.8.5"
  }
 },
 "nbformat": 4,
 "nbformat_minor": 1
}
