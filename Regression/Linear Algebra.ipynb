{
 "cells": [
  {
   "cell_type": "markdown",
   "metadata": {},
   "source": [
    "# Vectors"
   ]
  },
  {
   "cell_type": "code",
   "execution_count": 2,
   "metadata": {},
   "outputs": [],
   "source": [
    "import numpy as np \n",
    "import matplotlib.pyplot as plt \n",
    "from mpl_toolkits.mplot3d import Axes3D"
   ]
  },
  {
   "cell_type": "markdown",
   "metadata": {},
   "source": [
    "### Vector Addition and subtraction"
   ]
  },
  {
   "cell_type": "code",
   "execution_count": 6,
   "metadata": {},
   "outputs": [
    {
     "name": "stdout",
     "output_type": "stream",
     "text": [
      "[5 3]\n"
     ]
    },
    {
     "data": {
      "image/png": "[encoded data removed]",
      "text/plain": [
       "<Figure size 432x288 with 1 Axes>"
      ]
     },
     "metadata": {
      "needs_background": "light"
     },
     "output_type": "display_data"
    }
   ],
   "source": [
    "v1 = np.array([3, -1])\n",
    "v2 = np.array([2, 4])\n",
    "v3 = v1+v2\n",
    "print(v3)\n",
    "\n",
    "# plot them\n",
    "plt.plot([0, v1[0]],[0, v1[1]],'b',label='v1')\n",
    "plt.plot([0, v2[0]]+v1[0],[0, v2[1]]+v1[1],'r',label='v2')\n",
    "plt.plot([0, v3[0]],[0, v3[1]],'k',label='v1+v2')\n",
    "\n",
    "plt.legend()\n",
    "plt.axis('square')\n",
    "plt.axis((-6, 6, -6, 6 ))\n",
    "plt.grid()\n",
    "plt.show()"
   ]
  },
  {
   "cell_type": "markdown",
   "metadata": {},
   "source": [
    "### Vector-scalar multiplication"
   ]
  },
  {
   "cell_type": "markdown",
   "metadata": {},
   "source": [
    "- Scalar doesn't change the vector's direction (Scaled vector)"
   ]
  },
  {
   "cell_type": "code",
   "execution_count": 7,
   "metadata": {},
   "outputs": [
    {
     "data": {
      "image/png": "[encoded data removed]",
      "text/plain": [
       "<Figure size 432x288 with 1 Axes>"
      ]
     },
     "metadata": {
      "needs_background": "light"
     },
     "output_type": "display_data"
    }
   ],
   "source": [
    "# vector and scalar\n",
    "v1 = np.array([ 3, -1 ])\n",
    "l  = 2.3\n",
    "v1m = v1*l # scalar-modulated\n",
    "\n",
    "# plot them\n",
    "plt.plot([0, v1[0]],[0, v1[1]],'b',label='v_1')\n",
    "plt.plot([0, v1m[0]],[0, v1m[1]],'r:',label='\\lambda v_1')\n",
    "\n",
    "plt.axis('square')\n",
    "axlim = max([max(abs(v1)),max(abs(v1m))])*1.5 # dynamic axis lim\n",
    "plt.axis((-axlim,axlim,-axlim,axlim))\n",
    "plt.grid()\n",
    "plt.show()"
   ]
  },
  {
   "cell_type": "markdown",
   "metadata": {},
   "source": [
    "### Vector-vector multiplication: the dot product"
   ]
  },
  {
   "cell_type": "markdown",
   "metadata": {},
   "source": [
    "- A single number that provides information about the relationship between two vectors \n",
    "- Also called Scalar product\n",
    "- **Sum of all Element-wise multiplication**"
   ]
  },
  {
   "cell_type": "code",
   "execution_count": 54,
   "metadata": {},
   "outputs": [
    {
     "data": {
      "text/plain": [
       "numpy.int64"
      ]
     },
     "execution_count": 54,
     "metadata": {},
     "output_type": "execute_result"
    }
   ],
   "source": [
    "v1 = np.array([ 1, 2, 3, 4, 5, 6 ])\n",
    "v2 = np.array([ 0, -4, 2, -3, 6, 5 ])\n",
    "\n",
    "# Method 1 \n",
    "dp1 = sum(np.multiply(v1, v2))\n",
    "\n",
    "# Method 2 \n",
    "dp2 = np.dot(v1, v2)\n",
    "\n",
    "# Method 3 \n",
    "dp3 = np.matmul(v1, v2)\n",
    "\n",
    "# Method 4\n",
    "dp4 = 0 \n",
    "for i in range(len(v1)):\n",
    "    dp4 = dp4 + v1[i]*v2[i]\n",
    "\n",
    "print(dp1, dp2, dp3, dp4)"
   ]
  },
  {
   "cell_type": "markdown",
   "metadata": {},
   "source": [
    "### Dot product properties: associative, distributive, commutative"
   ]
  },
  {
   "cell_type": "code",
   "execution_count": 12,
   "metadata": {},
   "outputs": [
    {
     "name": "stdout",
     "output_type": "stream",
     "text": [
      "-1.635360989155513 -1.6353609891555134\n"
     ]
    }
   ],
   "source": [
    "## Distributive property (Hold)\n",
    "\n",
    "# create random vectors \n",
    "n = 10 \n",
    "a = np.random.randn(n)\n",
    "b = np.random.randn(n)\n",
    "c = np.random.randn(n)\n",
    "\n",
    "# the two results \n",
    "res1 = np.dot(a, (b+c))\n",
    "res2 = np.dot(a,b)+np.dot(a,c)\n",
    "\n",
    "# compare the result \n",
    "print(res1, res2)"
   ]
  },
  {
   "cell_type": "code",
   "execution_count": 15,
   "metadata": {},
   "outputs": [
    {
     "name": "stdout",
     "output_type": "stream",
     "text": [
      "[ 0.10383611  0.0088226   0.01223407 -0.29778376  0.22890745]\n",
      "[-1.82130587  0.09910601  1.16610284  0.1481893  -0.65038476]\n"
     ]
    }
   ],
   "source": [
    "## Associative property (Does not hold in general [Consider different numbers of element in b,c and a] )\n",
    "\n",
    "# create random vectors \n",
    "n = 5 \n",
    "a = np.random.randn(n)\n",
    "b = np.random.randn(n)\n",
    "c = np.random.randn(n)\n",
    "\n",
    "# the two results\n",
    "res1 = np.dot( a , np.dot(b,c) ) #dot product between b and c become a scalar\n",
    "res2 = np.dot( np.dot(a,b) , c )\n",
    "\n",
    "# compare the results \n",
    "print(res1)\n",
    "print(res2)\n",
    "\n",
    "### special cases where associative property works!\n",
    "# 1) one vector is the zeros vector\n",
    "# 2) a==b==c"
   ]
  },
  {
   "cell_type": "code",
   "execution_count": 21,
   "metadata": {},
   "outputs": [
    {
     "name": "stdout",
     "output_type": "stream",
     "text": [
      "[[ 2.02337081  0.15726302  0.08784483 -0.00715554 -0.71932376 -1.1671375 ]\n",
      " [-0.35180581  0.50248566  1.73332875 -0.03553643 -1.88990816 -0.40454619]\n",
      " [-1.25016669  0.14536221 -0.69775836  0.74755712 -0.73227687  1.38786093]\n",
      " [ 0.56379611  0.10940635  1.3431496  -0.65309571  1.61647218  0.24614857]]\n",
      "[[-1.10095848 -0.99349006  1.03754473 -0.37789893  0.66846926  2.21994683]\n",
      " [ 0.45445096 -0.05743452 -0.9244358  -0.57695063 -0.84659163  0.96186422]\n",
      " [ 0.20015904 -0.03384785  1.04403903  0.23815013 -0.18653242  0.76088714]\n",
      " [-0.95384517  1.01077205 -0.60032478  0.11133919  0.29375565 -2.4491553 ]]\n",
      "[-3.17553209 -0.07943459 -3.04602117  0.12852251  1.73057581 -2.52695224]\n"
     ]
    }
   ],
   "source": [
    "# Code Challenge \n",
    "\n",
    "# Create 2 4*6 matrices of random columns \n",
    "# Use a for-look to compute dot products between corresponding columns\n",
    "\n",
    "A = np.random.randn(4,6)\n",
    "B = np.random.randn(4,6)\n",
    "\n",
    "print(A)\n",
    "print(B)\n",
    "\n",
    "res = np.zeros(6)\n",
    "for i in range(6):\n",
    "    res[i] = np.dot(A[:,i], B[:,i])\n",
    "\n",
    "print(res)"
   ]
  },
  {
   "cell_type": "code",
   "execution_count": 33,
   "metadata": {},
   "outputs": [
    {
     "name": "stdout",
     "output_type": "stream",
     "text": [
      "-2.4965501754229997 -2.4965501754229997\n",
      "26 26\n"
     ]
    }
   ],
   "source": [
    "# is the dot product commutative\n",
    "# aTb == bTa\n",
    "# Generate two 100-element random row vector, compute dot product a with b, b with a \n",
    "\n",
    "A = np.random.randn(100)\n",
    "B = np.random.randn(100)\n",
    "a_b = np.dot(A,B)\n",
    "b_a = np.dot(B,A)\n",
    "print(a_b, b_a)\n",
    "\n",
    "# Generate two 2-element integer row vectors, repeat \n",
    "v = [2,4]\n",
    "w = [3,5]\n",
    "print(np.dot(v,w), np.dot(w,v))"
   ]
  },
  {
   "cell_type": "markdown",
   "metadata": {},
   "source": [
    "### Vector Length"
   ]
  },
  {
   "cell_type": "markdown",
   "metadata": {},
   "source": [
    "- Magnitues of vectors scaled by angle between them \n",
    "- Sqrt (Sum of Squares vector element [Element-wise multiplication])"
   ]
  },
  {
   "cell_type": "code",
   "execution_count": 35,
   "metadata": {},
   "outputs": [
    {
     "name": "stdout",
     "output_type": "stream",
     "text": [
      "9.539392014169456 9.539392014169456\n"
     ]
    }
   ],
   "source": [
    "# a vector \n",
    "v1 = np.array([1,2,3,4,5,6])\n",
    "\n",
    "r1 = np.sqrt(sum(np.multiply(v1,v1))) # == np.sqrt(np.dot(v1,v1))\n",
    "\n",
    "# Taking the norm \n",
    "r2 = np.linalg.norm(v1)\n",
    "print(r1,r2)"
   ]
  },
  {
   "cell_type": "code",
   "execution_count": 41,
   "metadata": {},
   "outputs": [
    {
     "name": "stdout",
     "output_type": "stream",
     "text": [
      "0 0\n"
     ]
    }
   ],
   "source": [
    "# Code Challenge: test whether dot product sign is invariant to scalar multiplication\n",
    "\n",
    "# Generate two vectors (R3)\n",
    "a = np.array([-3,4,5])\n",
    "b = np.array([3,6,-3])\n",
    "# generate two scalars\n",
    "s1 = 2\n",
    "s2 = 3\n",
    "# compute the dot product between vectors \n",
    "v = np.dot(a,b)\n",
    "# compute the dot product between the scaled vectors \n",
    "sv = np.dot(s1*a, s2*b)\n",
    "\n",
    "print(v, sv)"
   ]
  },
  {
   "cell_type": "markdown",
   "metadata": {},
   "source": [
    "### Vector Hadamard Mutiplication"
   ]
  },
  {
   "cell_type": "markdown",
   "metadata": {},
   "source": [
    "- Element-wise multiplication \n",
    "- two vectors with same size"
   ]
  },
  {
   "cell_type": "code",
   "execution_count": 42,
   "metadata": {},
   "outputs": [
    {
     "name": "stdout",
     "output_type": "stream",
     "text": [
      "[ 3 12 10]\n"
     ]
    }
   ],
   "source": [
    "w1 = [1,3,5]\n",
    "w2 = [3,4,2]\n",
    "\n",
    "w3 = np.multiply(w1, w2) # element-wise muptiplication\n",
    "print(w3)"
   ]
  },
  {
   "cell_type": "markdown",
   "metadata": {},
   "source": [
    "### Outer product"
   ]
  },
  {
   "cell_type": "code",
   "execution_count": 50,
   "metadata": {},
   "outputs": [
    {
     "name": "stdout",
     "output_type": "stream",
     "text": [
      "[[-1  0  1]\n",
      " [-2  0  2]\n",
      " [-3  0  3]]\n",
      " \n",
      "[[-1.  0.  1.]\n",
      " [-2.  0.  2.]\n",
      " [-3.  0.  3.]]\n"
     ]
    }
   ],
   "source": [
    "v1 = np.array([1,2,3])\n",
    "v2 = np.array([-1,0,1])\n",
    "\n",
    "# outer product \n",
    "op1 = np.outer(v1,v2)\n",
    "\n",
    "# hard-code \n",
    "op2 = np.zeros((len(v1), len(v2)))\n",
    "\n",
    "for i in range(len(v1)):\n",
    "    for j in range(len(v2)):\n",
    "        op2[i,j] = v1[i]*v2[j]\n",
    "\n",
    "print(op1)\n",
    "print(' ')\n",
    "print(op2)"
   ]
  },
  {
   "cell_type": "markdown",
   "metadata": {},
   "source": [
    "### Vector cross product"
   ]
  },
  {
   "cell_type": "markdown",
   "metadata": {},
   "source": [
    "- Only for two 3D Vectors\n",
    "- Result is another 3D vectors"
   ]
  },
  {
   "cell_type": "markdown",
   "metadata": {},
   "source": [
    "# Matrices"
   ]
  },
  {
   "cell_type": "code",
   "execution_count": 52,
   "metadata": {},
   "outputs": [
    {
     "name": "stdout",
     "output_type": "stream",
     "text": [
      "[[-0.54116331  0.22420229 -0.70461229  0.06951839 -1.15940412]\n",
      " [ 0.30898965 -0.01292437 -0.86697316  1.23715079 -0.01781643]\n",
      " [ 0.34019605  0.51765303 -1.08692515  1.45586137  0.7249452 ]\n",
      " [ 1.25863455 -0.08011296  1.57832187 -1.57865521  0.72787939]\n",
      " [ 0.9129497  -0.42001419 -0.06289509  0.51068056  1.31508003]]\n",
      "\n",
      "[[ 0.13565157  1.31627734]\n",
      " [-0.46356225 -0.41535836]\n",
      " [ 0.86001581  0.52958204]\n",
      " [ 0.76417048  0.26319156]\n",
      " [-1.01346154 -0.64289859]]\n",
      "[[1. 0. 0.]\n",
      " [0. 1. 0.]\n",
      " [0. 0. 1.]]\n",
      " \n"
     ]
    },
    {
     "data": {
      "text/plain": [
       "(None, None)"
      ]
     },
     "execution_count": 52,
     "metadata": {},
     "output_type": "execute_result"
    }
   ],
   "source": [
    "S = np.random.randn(5,5)\n",
    "R = np.random.randn(5,2)\n",
    "\n",
    "print(S), print('')\n",
    "print(R)\n",
    "\n",
    "# identity \n",
    "I = np.eye(3)\n",
    "print(I), print(' ')\n",
    "\n",
    "# zeros \n",
    "Z = np.zeros((4,4))\n",
    "print(Z), print(' ')"
   ]
  },
  {
   "cell_type": "markdown",
   "metadata": {},
   "source": [
    "### Matrix addition and subtraction"
   ]
  },
  {
   "cell_type": "markdown",
   "metadata": {},
   "source": [
    "- Only for matrixes with same numbers of elements\n",
    "- communitative and associative \n",
    "    - A + B = B + A \n",
    "    - A + (B + C) = (A + B) = C\n",
    "- 'shifting' a matrix by using a scaled identity matrix (Regulization in ML)"
   ]
  },
  {
   "cell_type": "code",
   "execution_count": 53,
   "metadata": {},
   "outputs": [
    {
     "name": "stdout",
     "output_type": "stream",
     "text": [
      "[[ 0.19659634  0.97104345  0.37869055  2.39061393 -0.18521797]\n",
      " [ 0.26352725 -0.4920725  -0.13798262 -1.42446147 -0.81377365]\n",
      " [-0.57437949 -1.5572323  -1.71508261 -0.61671618 -0.92392314]\n",
      " [-1.00902349 -1.56696307 -0.79121621 -0.33812131  0.17236054]\n",
      " [-0.27299567 -0.89561904 -1.95052099 -1.4631249  -0.12853264]]\n",
      " \n",
      "[[ 0.49659634  0.97104345  0.37869055  2.39061393 -0.18521797]\n",
      " [ 0.26352725 -0.1920725  -0.13798262 -1.42446147 -0.81377365]\n",
      " [-0.57437949 -1.5572323  -1.41508261 -0.61671618 -0.92392314]\n",
      " [-1.00902349 -1.56696307 -0.79121621 -0.03812131  0.17236054]\n",
      " [-0.27299567 -0.89561904 -1.95052099 -1.4631249   0.17146736]]\n"
     ]
    },
    {
     "data": {
      "text/plain": [
       "(None, None, None)"
      ]
     },
     "execution_count": 53,
     "metadata": {},
     "output_type": "execute_result"
    }
   ],
   "source": [
    "# create random matrices \n",
    "A = np.random.randn(5,4)\n",
    "B = np.random.randn(5,3)\n",
    "C = np.random.randn(5,4)\n",
    " \n",
    "# try to add them \n",
    "A+C\n",
    "\n",
    "# 'shifting' a matrix\n",
    "l = .3\n",
    "N = 5\n",
    "D = np.random.randn(N,N)\n",
    "Ds = D + np.eye(N)*l\n",
    "\n",
    "print(D), print(' '), print(Ds) # Only change diagnal "
   ]
  },
  {
   "cell_type": "markdown",
   "metadata": {},
   "source": [
    "### Matrix-Scalar Mutiplication"
   ]
  },
  {
   "cell_type": "markdown",
   "metadata": {},
   "source": [
    "- Commutative \n",
    "- Element-wise muptiplication"
   ]
  },
  {
   "cell_type": "markdown",
   "metadata": {},
   "source": [
    "###  Broadcasting matrix arithmetic"
   ]
  },
  {
   "cell_type": "code",
   "execution_count": 61,
   "metadata": {},
   "outputs": [
    {
     "name": "stdout",
     "output_type": "stream",
     "text": [
      "[[ 1  4  7 10]\n",
      " [ 2  5  8 11]\n",
      " [ 3  6  9 12]]\n",
      "\n",
      "\n",
      "[10, 20, 30, 40]\n",
      "\n",
      "\n",
      "[100, 200, 300, 400]\n"
     ]
    }
   ],
   "source": [
    "# Create a matrix \n",
    "A = np.reshape(np.arange(1,13), (3,4),'F') # F = column, C = row\n",
    "\n",
    "# and two vectors \n",
    "r = [10,20,30,40]\n",
    "c = [100,200,300,400]\n",
    "\n",
    "print(A)\n",
    "print('\\n')\n",
    "print(r)\n",
    "print('\\n')\n",
    "print(c)"
   ]
  },
  {
   "cell_type": "code",
   "execution_count": 62,
   "metadata": {},
   "outputs": [
    {
     "name": "stdout",
     "output_type": "stream",
     "text": [
      "[[11 24 37 50]\n",
      " [12 25 38 51]\n",
      " [13 26 39 52]]\n",
      "\n",
      "\n"
     ]
    }
   ],
   "source": [
    "# broadcast on rows \n",
    "print(A+r)\n",
    "print('\\n')"
   ]
  },
  {
   "cell_type": "code",
   "execution_count": 65,
   "metadata": {},
   "outputs": [
    {
     "name": "stdout",
     "output_type": "stream",
     "text": [
      "[[101 204 307 410]\n",
      " [102 205 308 411]\n",
      " [103 206 309 412]]\n"
     ]
    }
   ],
   "source": [
    "# broadcast on columns \n",
    "print(A+c)"
   ]
  },
  {
   "cell_type": "code",
   "execution_count": null,
   "metadata": {},
   "outputs": [],
   "source": []
  }
 ],
 "metadata": {
  "kernelspec": {
   "display_name": "Python 3",
   "language": "python",
   "name": "python3"
  },
  "language_info": {
   "codemirror_mode": {
    "name": "ipython",
    "version": 3
   },
   "file_extension": ".py",
   "mimetype": "text/x-python",
   "name": "python",
   "nbconvert_exporter": "python",
   "pygments_lexer": "ipython3",
   "version": "3.8.5"
  }
 },
 "nbformat": 4,
 "nbformat_minor": 4
}
